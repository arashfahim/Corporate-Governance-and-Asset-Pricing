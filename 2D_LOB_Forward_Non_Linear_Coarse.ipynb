{
  "cells": [
    {
      "cell_type": "markdown",
      "metadata": {
        "id": "view-in-github",
        "colab_type": "text"
      },
      "source": [
        "<a href=\"https://colab.research.google.com/github/arashfahim/Corporate-Governance-and-Asset-Pricing/blob/main/2D_LOB_Forward_Non_Linear_Coarse.ipynb\" target=\"_parent\"><img src=\"https://colab.research.google.com/assets/colab-badge.svg\" alt=\"Open In Colab\"/></a>"
      ]
    },
    {
      "cell_type": "markdown",
      "source": [
        "Running cost\n",
        "\n",
        "$\\sum_{t=0}^{T-1}D_t\\xi_t+\\frac{\\kappa}{2}\\xi^{1+\\alpha}_t$\n",
        "\n",
        "Terminal cost\n",
        "\n",
        "$D_T(R_0-\\sum_{t=0}^{T-1}\\xi_t)+\\frac{\\kappa}{2}(R_0-\\sum_{t=0}^{T-1}\\xi_t)^{1+\\alpha}$\n",
        "\n",
        "For $T=2$, the total loss is\n",
        "\n",
        "$D_0\\xi_0+\\frac{\\kappa}{2}\\xi^{1+\\alpha}_0+D_1(R_0-\\xi_0)+\\frac{\\kappa}{2}(R_0-\\xi_0)^{1+\\alpha}$\n",
        "\n",
        "$D_1=\\rho(D_0+\\kappa \\xi_0^{\\alpha})$\n",
        "\n",
        "loss$=D_0\\xi_0+\\frac{\\kappa}{2}\\xi^{1+\\alpha}_0+\\rho(D_0+\\kappa \\xi_0^{\\alpha})(R_0-\\xi_0)+\\frac{\\kappa}{2}(R_0-\\xi_0)^{1+\\alpha}$\n",
        "\n",
        "$=D_0\\xi_0+\\frac{\\kappa}{2}\\xi^{1+\\alpha}_0+\\rho D_0R_0-\\rho D_0\\xi_0+\\rho R_0\\kappa \\xi_0^{\\alpha}-\\rho \\kappa \\xi_0^{1+\\alpha}+\\frac{\\kappa}{2}(R_0-\\xi_0)^{1+\\alpha}$\n",
        "\n",
        "\n",
        "\n",
        "$=\\rho D_0R_0+D_0(1-\\rho)\\xi_0 + \\frac{\\kappa}{2}(R_0^2-2(1-\\rho)\\xi_0(R_0-\\xi_0))=\\rho D_0R_0+\\frac{\\kappa}{2}R_0^2+D_0(1-\\rho)\\xi_0 - {\\kappa}(1-\\rho)\\xi_0(R_0-\\xi_0)$\n",
        "\n",
        "$(1-\\rho){\\kappa}\\xi_0(\\frac{D_0}{\\kappa} - R_0+\\xi_0)$\n",
        "\n",
        "\n",
        "$\\xi_0(\\frac{D_0}{\\kappa} - R_0+\\xi_0)$\n",
        "\n",
        "------------------------------\n",
        "\n",
        "Minimization:\n",
        "\n",
        "\n",
        "$\\xi_0^*=\\frac{R_0-\\frac{D_0}{\\kappa}}{2}=\\frac{\\kappa R_0-{D_0}{}}{2\\kappa}$\n",
        "\n",
        "-------------------------------\n",
        "\n",
        "If $D_0=0$, $\\xi_0=\\frac{R_0}{2}$.\n",
        "\n",
        "Total cost\n",
        "\n",
        "\n",
        "$D_0\\frac{\\kappa R_0-D_0}{2\\kappa}+\\frac{\\kappa}{2}\\frac{(\\kappa R_0-D_0)^2}{4\\kappa^2}+D_1(R_0-\\frac{\\kappa R_0-D_0}{2\\kappa})+\\frac{\\kappa}{2}(R_0-\\frac{\\kappa R_0-D_0}{2\\kappa})^2$\n",
        "\n",
        "\n",
        "If $D_0=0$, $\\frac{\\kappa}{4}(1+\\rho)R_0^2$\n"
      ],
      "metadata": {
        "id": "EAeVrisqJHHm"
      }
    },
    {
      "cell_type": "code",
      "execution_count": 189,
      "metadata": {
        "id": "PqNL-4FAgMis"
      },
      "outputs": [],
      "source": [
        "import numpy as np\n",
        "import json\n",
        "from scipy import misc\n",
        "import matplotlib.pyplot as plt\n",
        "from matplotlib.pyplot import cm\n",
        "import torch\n",
        "import torch.nn as nn\n",
        "import torch.nn.functional as F\n",
        "import torch.optim as optim\n",
        "import torch.optim.lr_scheduler as lr_scheduler\n",
        "import random\n",
        "import math\n",
        "import pandas as pd\n",
        "import cvxpy as cp\n",
        "from scipy.optimize import fsolve\n",
        "import time\n",
        "import os"
      ]
    },
    {
      "cell_type": "code",
      "source": [
        "from google.colab import drive\n",
        "drive.mount('/content/gdrive')"
      ],
      "metadata": {
        "id": "MpGALyAWok9D",
        "outputId": "5a695774-c889-4563-aecd-3c2823168214",
        "colab": {
          "base_uri": "https://localhost:8080/"
        }
      },
      "execution_count": 190,
      "outputs": [
        {
          "output_type": "stream",
          "name": "stdout",
          "text": [
            "Drive already mounted at /content/gdrive; to attempt to forcibly remount, call drive.mount(\"/content/gdrive\", force_remount=True).\n"
          ]
        }
      ]
    },
    {
      "cell_type": "code",
      "source": [
        "PATH = r\"/content/gdrive/MyDrive/LOB_multi_scale_models/\""
      ],
      "metadata": {
        "id": "lhBeFrcCouOw"
      },
      "execution_count": 191,
      "outputs": []
    },
    {
      "cell_type": "markdown",
      "source": [
        "# New implementation for GPU"
      ],
      "metadata": {
        "id": "tdhilbNcbHgu"
      }
    },
    {
      "cell_type": "code",
      "source": [
        "device = torch.device(\"cuda:0\" if torch.cuda.is_available() else \"cpu\")"
      ],
      "metadata": {
        "id": "vFUFxSwZ4I2p"
      },
      "execution_count": 192,
      "outputs": []
    },
    {
      "cell_type": "code",
      "source": [
        "param_dict = {\n",
        "        'M' : 100,# number of samples\n",
        "        'T' : 10.0, # terminal time\n",
        "        'iter' : 10, #number of steps minus terminal\n",
        "        'kappa' : 1e-1, #price impact sensitivity factor\n",
        "        'rho' : 1, #resillience<1\n",
        "        'alpha' : 1.0, #price impact exponent\n",
        "        'X0' : 1000\n",
        "}"
      ],
      "metadata": {
        "id": "VnIiBZ_9yrNn"
      },
      "execution_count": 230,
      "outputs": []
    },
    {
      "cell_type": "code",
      "source": [
        "class exe_t(nn.Module):\n",
        "    def __init__(self):\n",
        "        super(exe_t, self).__init__()\n",
        "        self.layer = torch.nn.Sequential()\n",
        "        self.layer.add_module(\"L1\",torch.nn.Linear(2, 20))#1d\n",
        "        # self.layer.add_module(\"Tanh\", torch.nn.Tanh())\n",
        "        # self.layer.add_module(\"L2\",torch.nn.Linear(20,40))\n",
        "        # self.layer.add_module(\"Tanh\", torch.nn.Tanh())\n",
        "        # self.layer.add_module(\"L3\",torch.nn.Linear(40,20))\n",
        "        self.layer.add_module(\"Tanh\", torch.nn.Tanh())\n",
        "        self.layer.add_module(\"L4\",torch.nn.Linear(20,1))\n",
        "    def forward(self, tx):\n",
        "        val = self.layer(tx)\n",
        "        return val#torch.Tensor([0.5]).to(device)*tx[:,-1]#val"
      ],
      "metadata": {
        "id": "M8PBNIOD9OH0"
      },
      "execution_count": 233,
      "outputs": []
    },
    {
      "cell_type": "code",
      "source": [
        "class opt_exe():#multi_step, optimal_control\n",
        "    def __init__(self,params):\n",
        "        self.M = params['M']# number of samples\n",
        "        self.T= params['T'] # terminal time\n",
        "        self.iter = params['iter'] #number of steps minus terminal\n",
        "        self.Dt= torch.Tensor([self.T/self.iter]).to(device) #time step\n",
        "        self.kappa=torch.Tensor([params['kappa']]).to(device) #price impact sensitivity factor\n",
        "        self.rho=torch.exp(-params['rho']*self.Dt).to(device) #resillience<1\n",
        "        self.alpha= params['alpha'] #price impact exponent\n",
        "        self.X0=params['X0']\n",
        "        self.D = torch.zeros([self.M,1]).to(device)\n",
        "        self.R=torch.linspace(self.X0*0.85,self.X0*1.15,self.M).unsqueeze(-1).to(device)#torch.FloatTensor(self.M,1).uniform_(self.X0*0.95,self.X0*1.05).to(device)\n",
        "        self.tx = torch.cat((self.D,self.R),axis=1)\n",
        "        self.opt_path = torch.zeros([self.M,self.iter+1,3]).to(device)\n",
        "        self.opt_exe = torch.zeros([self.M,self.iter+1]).to(device)\n",
        "        self.models_t = [exe_t().to(device) for i in range(self.iter)]\n",
        "\n",
        "\n",
        "    def unit(self,tx,model):\n",
        "        exe_ = model(tx)# \\xi(t,X_t) optimal strategy\n",
        "        co_ = self.Dt*(tx[:,1]*exe_.squeeze(-1)+torch.Tensor([1/(1+self.alpha)]).to(device)*self.kappa *torch.pow(torch.abs(exe_.squeeze(-1)),1+self.alpha))\n",
        "        up_ = torch.cat((self.rho*(tx[:,0].unsqueeze(-1)+self.Dt*self.kappa*torch.sign(exe_)*torch.pow(torch.abs(exe_),self.alpha)), tx[:,1].unsqueeze(-1)-exe_),axis=1)\n",
        "        return exe_, co_, up_\n",
        "\n",
        "    def loss(self):\n",
        "        for i in range(self.iter):\n",
        "            if i == 0:\n",
        "                #X_0=(0,0,R_0)\n",
        "                tx = self.tx\n",
        "                # self.tx[:,i,:] = tx\n",
        "                exe_, co_, up_ = self.unit(tx,self.models_t[i]) # \\xi(0,X_0), running cost for X_0, X_{t_1}\n",
        "                # print(\"exe:\",exe_,\"cost:\",co_,\"update:\",up_)\n",
        "                cost = co_ #record running cost\n",
        "                # sum = exe_ # record executed order\n",
        "                # print(\"price impact:\", up_[:,1])\n",
        "                # print(\"exe \",exe_)\n",
        "            else:\n",
        "                # self.tx[:,i,:] = up_\n",
        "                exe_, co_, up_ = self.unit(up_,self.models_t[i]) # \\xi(t_i,X_{t_i}), running cost for X_{t_i}, X_{t_{i+1}}\n",
        "                cost = cost + co_ # add the running cost\n",
        "                # sum = sum + exe_  # add the executed order to total\n",
        "        # last step\n",
        "        # print(up_)\n",
        "        # self.tx[:,self.iter,:] = up_\n",
        "        # print(self.R)\n",
        "        # remain = self.R - sum # remaining balance carried to the last order\n",
        "        # print(remain,up_[:,-1])\n",
        "        cost = cost + self.Dt*(up_[:,1]*up_[:,-1]+torch.Tensor([1/(1+self.alpha)]).to(device)*self.kappa *torch.pow(torch.abs(up_[:,-1]),1+self.alpha)).squeeze(-1)   # cost of last order\n",
        "        return torch.mean(cost)\n",
        "\n",
        "    def approx_loss_2(self):\n",
        "        for i in range(self.iter):\n",
        "            if i == 0:\n",
        "                self.opt_path[:,i,:] = torch.cat(((torch.Tensor([0.0]).repeat([self.M,1])).to(device),self.tx),axis=1)\n",
        "                exe_, co_, up_ = self.unit(self.tx,self.models_t[i]) # \\xi(0,X_0), running cost for X_0, X_{t_1}\n",
        "                cost = co_ #record running cost\n",
        "                # sum = exe_ # record executed order\n",
        "                # print(exe_)\n",
        "                self.opt_exe[:,i] = exe_.squeeze(-1)\n",
        "            else:\n",
        "                self.opt_path[:,i,:] = torch.cat((((self.Dt*i).repeat([self.M,1])),up_),axis=1)\n",
        "                exe_, co_, up_ = self.unit(up_,self.models_t[i]) # \\xi(t_i,X_{t_i}), running cost for X_{t_i}, X_{t_{i+1}}\n",
        "                cost = cost + co_ # add the running cost\n",
        "                # sum = sum + exe_  # add the executed order to total\n",
        "                # print(exe_)\n",
        "                self.opt_exe[:,i] = exe_.squeeze(-1)\n",
        "        # last step\n",
        "        self.opt_path[:,self.iter,:] = torch.cat((((self.Dt*self.iter).repeat([self.M,1])),up_),axis=1)\n",
        "        # print(exe_)\n",
        "        remain = up_[:,-1] # remaining balance carried to the last order\n",
        "        self.opt_exe[:,self.iter] = remain\n",
        "        cost = cost + self.Dt*(up_[:,1]*remain+torch.Tensor([1/(1+self.alpha)]).to(device)*self.kappa *torch.pow(torch.abs(remain),1+self.alpha))   # cost of last order\n",
        "        return torch.mean(cost)#torch.cat((tx[:,-1].unsqueeze(-1),cost.unsqueeze(-1)),axis=1)\n",
        "\n",
        "\n",
        "    def optimal_path(self,tx):\n",
        "        M = tx.shape[0]\n",
        "        opt_path = torch.zeros([M,self.iter+1,3]).to(device)\n",
        "        opt_exe = torch.zeros([M,self.iter+1]).to(device)\n",
        "        for i in range(self.iter):\n",
        "            if i == 0:\n",
        "                opt_path[:,i,:] = torch.cat(((torch.Tensor([0.0]).repeat([self.M,1])).to(device),self.tx),axis=1)\n",
        "                exe_, co_, up_ = self.unit(tx,self.models_t[i]) # \\xi(0,X_0), running cost for X_0, X_{t_1}\n",
        "                cost = co_ #record running cost\n",
        "                # sum = exe_ # record executed order\n",
        "                # print(exe_)\n",
        "                # print(i,\":\",exe_,\",\",up_[:,-1])\n",
        "                opt_exe[:,i] = exe_.squeeze(-1)\n",
        "            else:\n",
        "                opt_path[:,i,:] = torch.cat((((self.Dt*i).repeat([self.M,1])),up_),axis=1)\n",
        "                exe_, co_, up_ = self.unit(up_,self.models_t[i]) # \\xi(t_i,X_{t_i}), running cost for X_{t_i}, X_{t_{i+1}}\n",
        "                cost = cost + co_ # add the running cost\n",
        "                # sum = sum + exe_  # add the executed order to total\n",
        "                # print(i,\":\",exe_,\",\",up_[:,-1])\n",
        "                opt_exe[:,i] = exe_.squeeze(-1)\n",
        "        # last step\n",
        "        opt_path[:,self.iter,:] = torch.cat((((self.Dt*self.iter).repeat([self.M,1])),up_),axis=1)\n",
        "        # print(exe_)\n",
        "        remain = up_[:,-1] # remaining balance carried to the last order\n",
        "        # print(\"last: \",remain)\n",
        "        opt_exe[:,self.iter] = remain\n",
        "        cost = cost + self.Dt*(up_[:,1]*remain+torch.Tensor([1/(1+self.alpha)]).to(device)*self.kappa *torch.pow(torch.abs(remain),1+self.alpha))   # cost of last order\n",
        "        return opt_path, opt_exe#torch.cat((tx[:,-1].unsqueeze(-1),cost.unsqueeze(-1)),axis=1)\n",
        "\n",
        "    def visualize(self):\n",
        "        self.approx_loss_2()\n",
        "        ind = range(30,self.M-30,20)\n",
        "        h = []\n",
        "        l = []\n",
        "        color = cm.rainbow(np.linspace(0, 1, len(ind)))\n",
        "        fig, ax = plt.subplots(len(ind),1,figsize=(len(ind)*5,10),dpi=300)\n",
        "        for i in range(len(ind)):\n",
        "            ax[i].bar(self.opt_path[ind[i],:,0].cpu().detach().numpy(),self.opt_exe[ind[i],:].clone().detach().cpu().numpy(),label=r\"$R_0$=\"+str(self.R[ind[i],0].detach().cpu().numpy()),color=color[i],width=0.5*p1.Dt.cpu().numpy())\n",
        "            h_, l_ = ax[i].get_legend_handles_labels()\n",
        "            h = h + h_\n",
        "            l = l + l_\n",
        "\n",
        "        ax[0].legend(h,l,loc='best',bbox_to_anchor=(1.0, 0.1, 0.2, 0.5));#, );\n",
        "        plt.tight_layout();\n"
      ],
      "metadata": {
        "id": "aht2RHYvkFJo"
      },
      "execution_count": 234,
      "outputs": []
    },
    {
      "cell_type": "code",
      "source": [
        "p1 = opt_exe(param_dict)"
      ],
      "metadata": {
        "id": "FXEqKR_kqz9Z"
      },
      "execution_count": 235,
      "outputs": []
    },
    {
      "cell_type": "markdown",
      "source": [
        "**path to save the outcome**"
      ],
      "metadata": {
        "id": "ztv_NMbsmIUF"
      }
    },
    {
      "cell_type": "code",
      "source": [
        "od = p1.models_t[0].state_dict()\n",
        "arch = '2D'\n",
        "for key, value in od.items():\n",
        "    if 'bias' in key:\n",
        "        arch = \"-\".join([arch,str(value.shape[0])])\n",
        "path = PATH+arch + '_alpha_' + str(p1.alpha)\n",
        "if not os.path.exists(path):\n",
        "    os.mkdir(path)\n",
        "with open(path+\"/params.json\", \"w\") as outfile:\n",
        "    json_object = json.dumps(param_dict, indent=4)\n",
        "    outfile.write(json_object)"
      ],
      "metadata": {
        "id": "Y7AKurRX0Hgu"
      },
      "execution_count": 236,
      "outputs": []
    },
    {
      "cell_type": "code",
      "source": [
        "p1.models_t[0]"
      ],
      "metadata": {
        "colab": {
          "base_uri": "https://localhost:8080/"
        },
        "id": "h7tzk584-yFR",
        "outputId": "092375be-1897-4c60-f734-bdf7f50ef2bf"
      },
      "execution_count": 237,
      "outputs": [
        {
          "output_type": "execute_result",
          "data": {
            "text/plain": [
              "exe_t(\n",
              "  (layer): Sequential(\n",
              "    (L1): Linear(in_features=2, out_features=20, bias=True)\n",
              "    (Tanh): Tanh()\n",
              "    (L4): Linear(in_features=20, out_features=1, bias=True)\n",
              "  )\n",
              ")"
            ]
          },
          "metadata": {},
          "execution_count": 237
        }
      ]
    },
    {
      "cell_type": "code",
      "source": [
        "# x = torch.linspace(p1.X0*0.85,p1.X0*1.15,10).to(device)\n",
        "# y = p1.analytic_loss_1(x.unsqueeze(-1))[:,1].to(device)\n",
        "# z = p1.analytic_loss_2(x.unsqueeze(-1))[:,1].to(device)\n",
        "# plt.plot(x.cpu().clone().detach().numpy(),y.cpu().clone().detach().numpy(),label=\"analytic_1\");\n",
        "# plt.plot(x.cpu().clone().detach().numpy(),z.cpu().clone().detach().numpy(),label=\"analytic_2\");\n",
        "# plt.legend();"
      ],
      "metadata": {
        "id": "v0Nt3HzOQ93C"
      },
      "execution_count": 238,
      "outputs": []
    },
    {
      "cell_type": "code",
      "source": [
        "# p1.tx"
      ],
      "metadata": {
        "id": "rNv6oI5tShqa"
      },
      "execution_count": 239,
      "outputs": []
    },
    {
      "cell_type": "code",
      "source": [
        "p1.opt_path[:,0,:].shape, torch.cat(((torch.Tensor([0.0]).repeat([p1.M,1])).to(device),p1.tx),axis=1).shape"
      ],
      "metadata": {
        "id": "isPnUk2RWoe4",
        "colab": {
          "base_uri": "https://localhost:8080/"
        },
        "outputId": "cb5501ca-89ca-48fa-ccf0-a08bb68c0969"
      },
      "execution_count": 240,
      "outputs": [
        {
          "output_type": "execute_result",
          "data": {
            "text/plain": [
              "(torch.Size([100, 3]), torch.Size([100, 3]))"
            ]
          },
          "metadata": {},
          "execution_count": 240
        }
      ]
    },
    {
      "cell_type": "code",
      "source": [
        "# p1.rho*(tx[:,1].unsqueeze(-1)+p1.Dt*self.kappa*torch.sign(exe_)*torch.pow(torch.abs(exe_),p1.alpha))"
      ],
      "metadata": {
        "id": "9qKFPSZZ4HkM"
      },
      "execution_count": 241,
      "outputs": []
    },
    {
      "cell_type": "code",
      "source": [
        "p1.optimal_path(p1.tx)[0].shape\n",
        "# p1.optimal_path(p1.tx)[1].shape"
      ],
      "metadata": {
        "id": "1RzGwitizJkz",
        "colab": {
          "base_uri": "https://localhost:8080/"
        },
        "outputId": "b7519b28-72e8-4e6f-fc7d-44f6c8b7c1df"
      },
      "execution_count": 242,
      "outputs": [
        {
          "output_type": "execute_result",
          "data": {
            "text/plain": [
              "torch.Size([100, 11, 3])"
            ]
          },
          "metadata": {},
          "execution_count": 242
        }
      ]
    },
    {
      "cell_type": "code",
      "source": [
        "p1.approx_loss_2()"
      ],
      "metadata": {
        "id": "-43YlM8EHrrk",
        "colab": {
          "base_uri": "https://localhost:8080/"
        },
        "outputId": "749289ff-057d-45f9-dbe0-a4b12cb4a8e4"
      },
      "execution_count": 243,
      "outputs": [
        {
          "output_type": "execute_result",
          "data": {
            "text/plain": [
              "tensor(1058820.5000, device='cuda:0', grad_fn=<MeanBackward0>)"
            ]
          },
          "metadata": {},
          "execution_count": 243
        }
      ]
    },
    {
      "cell_type": "code",
      "source": [
        "p1.loss()"
      ],
      "metadata": {
        "id": "S3WpUTsKsYe0",
        "colab": {
          "base_uri": "https://localhost:8080/"
        },
        "outputId": "62cc0f32-04fb-48b9-9a2c-fd65e1301e39"
      },
      "execution_count": 244,
      "outputs": [
        {
          "output_type": "execute_result",
          "data": {
            "text/plain": [
              "tensor(1058820.5000, device='cuda:0', grad_fn=<MeanBackward0>)"
            ]
          },
          "metadata": {},
          "execution_count": 244
        }
      ]
    },
    {
      "cell_type": "code",
      "source": [
        "parameters = list(p1.models_t[0].parameters())\n",
        "for i in range(1,len(p1.models_t)):\n",
        "    parameters = parameters + list(p1.models_t[i].parameters())\n",
        "# parameters"
      ],
      "metadata": {
        "id": "vVIuVqoA5_go"
      },
      "execution_count": 245,
      "outputs": []
    },
    {
      "cell_type": "code",
      "source": [
        "lr1 = 1e-3\n",
        "# lr2 = 1e-2\n",
        "num_epochs = 10000\n",
        "optimizer1 = optim.Adam(parameters, lr1)#,weight_decay=1e-2\n",
        "# scheduler1 = lr_scheduler.LinearLR(optimizer1, start_factor=lr1, end_factor=lr2, total_iters=100)\n",
        "L_ = torch.Tensor([-2000.0]).to(device)\n",
        "cost = p1.loss()\n",
        "loss_epoch = []\n",
        "start=time.time()\n",
        "err = 1e-8"
      ],
      "metadata": {
        "id": "0FTa3FUNsoa9"
      },
      "execution_count": 246,
      "outputs": []
    },
    {
      "cell_type": "code",
      "source": [
        "epoch = 0\n",
        "while (torch.abs(L_-cost)/torch.abs(L_)>err) &  (epoch <= num_epochs):#\n",
        "    optimizer1.zero_grad()\n",
        "    cost=p1.loss()\n",
        "    cost.backward()\n",
        "    optimizer1.step()\n",
        "    #   before_lr = optimizer1.param_groups[0][\"lr\"]\n",
        "    #   scheduler1.step()\n",
        "    #   after_lr = optimizer1.param_groups[0][\"lr\"]\n",
        "    loss_epoch.append(cost)\n",
        "    if epoch>0:\n",
        "        L_ = loss_epoch[epoch-1]\n",
        "    if (epoch % 100==0):\n",
        "        print(\"At epoch {} the cost is {}.\".format(epoch,cost.detach()))\n",
        "        # print(\"Epoch %d: SGD lr %.4f -> %.4f\" % (epoch, before_lr, after_lr))\n",
        "        # print(\"We are currently at cost {} versus analytic {}\".format(p1.approx_loss_2(torch.Tensor([[0.0, 0.0, 10.0]]).to(device)),p1.analytic_loss_2(torch.Tensor([[10.0]]).to(device))))\n",
        "    if  (torch.abs(L_-cost)/torch.abs(L_)<=err):\n",
        "        print(\"Delta Loss = {} , epoch = {}\".format(torch.abs(L_-cost)/torch.abs(L_),epoch))\n",
        "        print(\"Final cost tally {}\".format(p1.approx_loss_2(),cost))#,p1.analytic_loss_2(torch.Tensor([[10.0]]).to(device))\n",
        "    epoch += 1\n",
        "end=time.time()\n",
        "print(\"Learning time: {}\".format(end-start))"
      ],
      "metadata": {
        "id": "DKYCuJd-vVDJ",
        "colab": {
          "base_uri": "https://localhost:8080/"
        },
        "outputId": "1936a897-bbe7-46ae-d367-60bfda105db9"
      },
      "execution_count": 247,
      "outputs": [
        {
          "output_type": "stream",
          "name": "stdout",
          "text": [
            "At epoch 0 the cost is 1058820.5.\n",
            "At epoch 100 the cost is 1035697.875.\n",
            "At epoch 200 the cost is 1013714.125.\n",
            "At epoch 300 the cost is 992487.75.\n",
            "At epoch 400 the cost is 971995.8125.\n",
            "At epoch 500 the cost is 952217.875.\n",
            "At epoch 600 the cost is 933132.75.\n",
            "At epoch 700 the cost is 914721.6875.\n",
            "At epoch 800 the cost is 896965.25.\n",
            "At epoch 900 the cost is 879846.375.\n",
            "At epoch 1000 the cost is 863347.1875.\n",
            "At epoch 1100 the cost is 847451.75.\n",
            "At epoch 1200 the cost is 832143.3125.\n",
            "At epoch 1300 the cost is 817407.25.\n",
            "At epoch 1400 the cost is 803228.6875.\n",
            "At epoch 1500 the cost is 789593.3125.\n",
            "At epoch 1600 the cost is 776487.3125.\n",
            "At epoch 1700 the cost is 763897.875.\n",
            "At epoch 1800 the cost is 751812.0.\n",
            "At epoch 1900 the cost is 740217.25.\n",
            "At epoch 2000 the cost is 729101.8125.\n",
            "At epoch 2100 the cost is 718453.875.\n",
            "At epoch 2200 the cost is 708262.375.\n",
            "At epoch 2300 the cost is 698515.75.\n",
            "At epoch 2400 the cost is 689203.8125.\n",
            "At epoch 2500 the cost is 680316.0.\n",
            "At epoch 2600 the cost is 671841.75.\n",
            "At epoch 2700 the cost is 663770.8125.\n",
            "At epoch 2800 the cost is 656093.4375.\n",
            "At epoch 2900 the cost is 648799.875.\n",
            "At epoch 3000 the cost is 641880.375.\n",
            "At epoch 3100 the cost is 635325.125.\n",
            "At epoch 3200 the cost is 629124.5625.\n",
            "At epoch 3300 the cost is 623269.25.\n",
            "At epoch 3400 the cost is 617749.5625.\n",
            "At epoch 3500 the cost is 612555.9375.\n",
            "At epoch 3600 the cost is 607678.9375.\n",
            "At epoch 3700 the cost is 603108.8125.\n",
            "At epoch 3800 the cost is 598836.0.\n",
            "At epoch 3900 the cost is 594850.8125.\n",
            "At epoch 4000 the cost is 591143.1875.\n",
            "At epoch 4100 the cost is 587703.5625.\n",
            "At epoch 4200 the cost is 584521.5625.\n",
            "At epoch 4300 the cost is 581587.4375.\n",
            "At epoch 4400 the cost is 578890.5625.\n",
            "At epoch 4500 the cost is 576420.5625.\n",
            "At epoch 4600 the cost is 574167.25.\n",
            "At epoch 4700 the cost is 572119.6875.\n",
            "At epoch 4800 the cost is 570267.25.\n",
            "At epoch 4900 the cost is 568599.125.\n",
            "At epoch 5000 the cost is 567104.6875.\n",
            "At epoch 5100 the cost is 565772.375.\n",
            "At epoch 5200 the cost is 564582.375.\n",
            "At epoch 5300 the cost is 563526.6875.\n",
            "At epoch 5400 the cost is 562598.25.\n",
            "At epoch 5500 the cost is 561773.3125.\n",
            "At epoch 5600 the cost is 561045.6875.\n",
            "At epoch 5700 the cost is 560412.6875.\n",
            "At epoch 5800 the cost is 559834.6875.\n",
            "At epoch 5900 the cost is 559334.9375.\n",
            "At epoch 6000 the cost is 558912.0.\n",
            "At epoch 6100 the cost is 558552.4375.\n",
            "At epoch 6200 the cost is 558249.8125.\n",
            "At epoch 6300 the cost is 557996.6875.\n",
            "At epoch 6400 the cost is 557730.5625.\n",
            "At epoch 6500 the cost is 557490.9375.\n",
            "At epoch 6600 the cost is 557310.625.\n",
            "At epoch 6700 the cost is 557021.4375.\n",
            "At epoch 6800 the cost is 556868.25.\n",
            "At epoch 6900 the cost is 556745.5625.\n",
            "At epoch 7000 the cost is 556646.6875.\n",
            "At epoch 7100 the cost is 556566.625.\n",
            "At epoch 7200 the cost is 556501.6875.\n",
            "At epoch 7300 the cost is 556448.6875.\n",
            "Delta Loss = 0.0 , epoch = 7392\n",
            "Final cost tally 556364.3125\n",
            "Learning time: 126.10345530509949\n"
          ]
        }
      ]
    },
    {
      "cell_type": "code",
      "source": [
        "p1.approx_loss_2()"
      ],
      "metadata": {
        "id": "na_itJ9rYeKG",
        "colab": {
          "base_uri": "https://localhost:8080/"
        },
        "outputId": "f04daca6-7bda-4fc4-8983-86b5c6ae9215"
      },
      "execution_count": 248,
      "outputs": [
        {
          "output_type": "execute_result",
          "data": {
            "text/plain": [
              "tensor(556364.3125, device='cuda:0', grad_fn=<MeanBackward0>)"
            ]
          },
          "metadata": {},
          "execution_count": 248
        }
      ]
    },
    {
      "cell_type": "code",
      "source": [
        "p1.opt_path[50,:,-1]"
      ],
      "metadata": {
        "id": "CIA6ssHEs1MQ",
        "colab": {
          "base_uri": "https://localhost:8080/"
        },
        "outputId": "d11cd1ad-58c6-48a4-d79a-70eb9ffdde13"
      },
      "execution_count": 249,
      "outputs": [
        {
          "output_type": "execute_result",
          "data": {
            "text/plain": [
              "tensor([1001.5151,  909.4239,  817.6293,  725.3631,  633.4261,  541.7448,\n",
              "         449.2708,  357.2714,  267.7858,  177.3499,   88.1910],\n",
              "       device='cuda:0', grad_fn=<SelectBackward0>)"
            ]
          },
          "metadata": {},
          "execution_count": 249
        }
      ]
    },
    {
      "cell_type": "code",
      "source": [
        "p1.opt_exe[50,:]"
      ],
      "metadata": {
        "id": "n9EhnGiruCqc",
        "colab": {
          "base_uri": "https://localhost:8080/"
        },
        "outputId": "6927d16e-2524-44f3-9f77-8bbc5e244aa2"
      },
      "execution_count": 250,
      "outputs": [
        {
          "output_type": "execute_result",
          "data": {
            "text/plain": [
              "tensor([92.0912, 91.7946, 92.2662, 91.9370, 91.6814, 92.4739, 91.9995, 89.4856,\n",
              "        90.4358, 89.1590, 88.1910], device='cuda:0', grad_fn=<SliceBackward0>)"
            ]
          },
          "metadata": {},
          "execution_count": 250
        }
      ]
    },
    {
      "cell_type": "markdown",
      "source": [
        "# **Saving the model**"
      ],
      "metadata": {
        "id": "uy7IVGYwolhu"
      }
    },
    {
      "cell_type": "code",
      "source": [
        "od = p1.models_t[0].state_dict()\n",
        "arch = '3D'\n",
        "for key, value in od.items():\n",
        "    if 'bias' in key:\n",
        "        arch = \"-\".join([arch,str(value.shape[0])])\n",
        "path = PATH+arch\n",
        "if not os.path.exists(path):\n",
        "    os.mkdir(PATH+arch)\n"
      ],
      "metadata": {
        "id": "6dn0QY_wltE4"
      },
      "execution_count": 251,
      "outputs": []
    },
    {
      "cell_type": "code",
      "source": [
        "for i in range(len(p1.models_t)):\n",
        "    torch.save(p1.models_t[i].state_dict(),path+\"/model\"+str(i)+\".pt\")"
      ],
      "metadata": {
        "id": "FXpMGiCnpNim"
      },
      "execution_count": 252,
      "outputs": []
    },
    {
      "cell_type": "code",
      "source": [
        "pd.DataFrame(p1.tx.cpu().detach().numpy()).to_csv(path+\"/optimal_path.csv\", index=False)"
      ],
      "metadata": {
        "id": "VICRVu-8qzJM"
      },
      "execution_count": 253,
      "outputs": []
    },
    {
      "cell_type": "markdown",
      "source": [
        "# Visualization"
      ],
      "metadata": {
        "id": "YaRdagaPshh9"
      }
    },
    {
      "cell_type": "code",
      "source": [
        "p1.visualize()\n",
        "plt.savefig(path+\"/plots.svg\")"
      ],
      "metadata": {
        "id": "_e-im2R4gyP_",
        "colab": {
          "base_uri": "https://localhost:8080/",
          "height": 1000
        },
        "outputId": "1ddcf444-99c2-430b-f36d-3e0947248f9e"
      },
      "execution_count": 254,
      "outputs": [
        {
          "output_type": "display_data",
          "data": {
            "text/plain": [
              "<Figure size 3000x3000 with 2 Axes>"
            ],
            "image/png": "[encoded data removed]"
          },
          "metadata": {}
        }
      ]
    },
    {
      "cell_type": "code",
      "source": [
        "p1.opt_path"
      ],
      "metadata": {
        "id": "vnGFv6TDw328",
        "colab": {
          "base_uri": "https://localhost:8080/"
        },
        "outputId": "7f714671-a9b4-4bb4-ef64-5290a85fe04b"
      },
      "execution_count": 255,
      "outputs": [
        {
          "output_type": "execute_result",
          "data": {
            "text/plain": [
              "tensor([[[ 0.0000e+00,  0.0000e+00,  8.5000e+02],\n",
              "         [ 1.0000e+00,  3.3878e+00,  7.5791e+02],\n",
              "         [ 2.0000e+00,  4.6233e+00,  6.6611e+02],\n",
              "         ...,\n",
              "         [ 8.0000e+00,  5.0426e+00,  1.2223e+02],\n",
              "         [ 9.0000e+00,  4.9700e+00,  3.7554e+01],\n",
              "         [ 1.0000e+01,  3.3170e+00, -2.9111e+00]],\n",
              "\n",
              "        [[ 0.0000e+00,  0.0000e+00,  8.5303e+02],\n",
              "         [ 1.0000e+00,  3.3878e+00,  7.6094e+02],\n",
              "         [ 2.0000e+00,  4.6233e+00,  6.6914e+02],\n",
              "         ...,\n",
              "         [ 8.0000e+00,  5.0426e+00,  1.2526e+02],\n",
              "         [ 9.0000e+00,  4.9701e+00,  4.0581e+01],\n",
              "         [ 1.0000e+01,  3.3173e+00,  1.0828e-01]],\n",
              "\n",
              "        [[ 0.0000e+00,  0.0000e+00,  8.5606e+02],\n",
              "         [ 1.0000e+00,  3.3878e+00,  7.6397e+02],\n",
              "         [ 2.0000e+00,  4.6233e+00,  6.7217e+02],\n",
              "         ...,\n",
              "         [ 8.0000e+00,  5.0427e+00,  1.2828e+02],\n",
              "         [ 9.0000e+00,  4.9701e+00,  4.3608e+01],\n",
              "         [ 1.0000e+01,  3.3177e+00,  3.1248e+00]],\n",
              "\n",
              "        ...,\n",
              "\n",
              "        [[ 0.0000e+00,  0.0000e+00,  1.1439e+03],\n",
              "         [ 1.0000e+00,  3.3878e+00,  1.0518e+03],\n",
              "         [ 2.0000e+00,  4.6233e+00,  9.6005e+02],\n",
              "         ...,\n",
              "         [ 8.0000e+00,  5.3720e+00,  4.0721e+02],\n",
              "         [ 9.0000e+00,  5.4297e+00,  3.1334e+02],\n",
              "         [ 1.0000e+01,  5.4602e+00,  2.1921e+02]],\n",
              "\n",
              "        [[ 0.0000e+00,  0.0000e+00,  1.1470e+03],\n",
              "         [ 1.0000e+00,  3.3878e+00,  1.0549e+03],\n",
              "         [ 2.0000e+00,  4.6233e+00,  9.6308e+02],\n",
              "         ...,\n",
              "         [ 8.0000e+00,  5.3721e+00,  4.1024e+02],\n",
              "         [ 9.0000e+00,  5.4297e+00,  3.1637e+02],\n",
              "         [ 1.0000e+01,  5.4602e+00,  2.2224e+02]],\n",
              "\n",
              "        [[ 0.0000e+00,  0.0000e+00,  1.1500e+03],\n",
              "         [ 1.0000e+00,  3.3878e+00,  1.0579e+03],\n",
              "         [ 2.0000e+00,  4.6233e+00,  9.6611e+02],\n",
              "         ...,\n",
              "         [ 8.0000e+00,  5.3721e+00,  4.1327e+02],\n",
              "         [ 9.0000e+00,  5.4297e+00,  3.1939e+02],\n",
              "         [ 1.0000e+01,  5.4602e+00,  2.2527e+02]]], device='cuda:0',\n",
              "       grad_fn=<CopySlices>)"
            ]
          },
          "metadata": {},
          "execution_count": 255
        }
      ]
    },
    {
      "cell_type": "code",
      "source": [],
      "metadata": {
        "id": "WCoTrVe38Ldd"
      },
      "execution_count": null,
      "outputs": []
    }
  ],
  "metadata": {
    "accelerator": "GPU",
    "colab": {
      "gpuType": "V100",
      "machine_shape": "hm",
      "provenance": [],
      "include_colab_link": true
    },
    "kernelspec": {
      "display_name": "Python 3",
      "name": "python3"
    },
    "language_info": {
      "codemirror_mode": {
        "name": "ipython",
        "version": 3
      },
      "file_extension": ".py",
      "mimetype": "text/x-python",
      "name": "python",
      "nbconvert_exporter": "python",
      "pygments_lexer": "ipython3",
      "version": "3.8.8"
    }
  },
  "nbformat": 4,
  "nbformat_minor": 0
}