{
 "cells": [
  {
   "cell_type": "markdown",
   "id": "charitable-cartridge",
   "metadata": {},
   "source": [
    "# generate sample paths of refelected process"
   ]
  },
  {
   "cell_type": "code",
   "execution_count": 19,
   "id": "innovative-seven",
   "metadata": {},
   "outputs": [],
   "source": [
    "import numpy as np\n",
    "import math as mt\n",
    "from datetime import datetime "
   ]
  },
  {
   "cell_type": "markdown",
   "id": "ahead-sociology",
   "metadata": {},
   "source": [
    "### Parameters and inputs"
   ]
  },
  {
   "cell_type": "code",
   "execution_count": 50,
   "id": "gross-wheel",
   "metadata": {},
   "outputs": [],
   "source": [
    "x_p = 1\n",
    "dx = 0.1\n",
    "dt=dx*dx\n",
    "num_samples = 1000000\n",
    "max_length = 50\n",
    "num_paths = 10000\n",
    "lmb = 0.5\n",
    "gamma = 2\n",
    "sigma = 1"
   ]
  },
  {
   "cell_type": "code",
   "execution_count": 51,
   "id": "provincial-penny",
   "metadata": {},
   "outputs": [
    {
     "name": "stdout",
     "output_type": "stream",
     "text": [
      "0:00:00.000124\n"
     ]
    }
   ],
   "source": [
    "begin = datetime.now()\n",
    "if 'Dlt_B' not in globals():\n",
    "    Dlt_B = np.random.normal(0, dx, size=(num_samples))\n",
    "    init = np.random.uniform(0,x_p,num_paths)\n",
    "print(datetime.now() - begin)"
   ]
  },
  {
   "cell_type": "markdown",
   "id": "under-assets",
   "metadata": {},
   "source": [
    "### Initialization"
   ]
  },
  {
   "cell_type": "code",
   "execution_count": 52,
   "id": "spread-customs",
   "metadata": {},
   "outputs": [],
   "source": [
    "paths=[]\n",
    "rubish_pths = 0"
   ]
  },
  {
   "cell_type": "markdown",
   "id": "clinical-trader",
   "metadata": {},
   "source": [
    "### Sample path generation"
   ]
  },
  {
   "cell_type": "code",
   "execution_count": 53,
   "id": "labeled-howard",
   "metadata": {},
   "outputs": [],
   "source": [
    "for j in range(0,num_paths):\n",
    "    path_ = init[j]\n",
    "    path_ref = [path_]\n",
    "    max_path = path_\n",
    "    i = 0\n",
    "    while ((i<max_length) & (path_ref[-1]>0)):\n",
    "        path_ = (1 + gamma*dt)*path_ + sigma*Dlt_B[i]\n",
    "        max_path = np.maximum(max_path, path_)\n",
    "        reflection = np.maximum(max_path - x_p, 0)\n",
    "        tmp = path_ - (1/lmb)*reflection\n",
    "        path_ref.append(tmp)\n",
    "        i = i + 1\n",
    "        if ((i == max_length) & (path_ref[-1] > 0)):\n",
    "            rubish_pths = rubish_pths + 1\n",
    "    if (path_ref[-1] < 0):\n",
    "        path_ref[-1] = 0\n",
    "        paths.append(path_ref)"
   ]
  },
  {
   "cell_type": "code",
   "execution_count": 54,
   "id": "economic-fusion",
   "metadata": {},
   "outputs": [
    {
     "name": "stdout",
     "output_type": "stream",
     "text": [
      "100000 0\n"
     ]
    }
   ],
   "source": [
    "print(len(paths), rubish_pths)"
   ]
  },
  {
   "cell_type": "code",
   "execution_count": 55,
   "id": "confirmed-stage",
   "metadata": {},
   "outputs": [
    {
     "data": {
      "text/plain": [
       "100000"
      ]
     },
     "execution_count": 55,
     "metadata": {},
     "output_type": "execute_result"
    }
   ],
   "source": [
    "x_ = np.array([p[0] for p in paths])\n",
    "y_ = np.array([dt*(len(p)-1) for p in paths])\n",
    "x_ind = x_.argsort()\n",
    "x = x_[x_ind[::-1]].reshape(-1,1)\n",
    "y = y_[x_ind[::-1]]\n",
    "len(x)"
   ]
  },
  {
   "cell_type": "code",
   "execution_count": 56,
   "id": "closed-fitting",
   "metadata": {},
   "outputs": [],
   "source": [
    "from sklearn.linear_model import LinearRegression\n",
    "model = LinearRegression().fit(x,y)"
   ]
  },
  {
   "cell_type": "code",
   "execution_count": 57,
   "id": "broadband-burlington",
   "metadata": {
    "scrolled": true
   },
   "outputs": [],
   "source": [
    "y_lin = model.predict(np.linspace(0,1,30).reshape(-1, 1))"
   ]
  },
  {
   "cell_type": "code",
   "execution_count": 58,
   "id": "sealed-printer",
   "metadata": {},
   "outputs": [],
   "source": [
    "def base (x,y,x_input,K):\n",
    "    q = np.zeros(K+1)\n",
    "    for k in range(1,K+1):\n",
    "        q[k] = np.quantile(x, k/K)\n",
    "    q[-1] = 1\n",
    "    I = []\n",
    "    y_output = []\n",
    "    a = np.empty(K)\n",
    "    b = np.empty(K)\n",
    "    X_ind = np.empty(K)\n",
    "    X = np.empty(K)\n",
    "    X_sq = np.empty(K)\n",
    "    Y = np.empty(K)\n",
    "    YX = np.empty(K)\n",
    "    x_y = np.stack((x,y.reshape(-1,1)),axis=1)\n",
    "    s = 0\n",
    "    for x0 in np.linspace(0,x_p,3000):\n",
    "        if x0 == 0:\n",
    "            I = 1\n",
    "        else:\n",
    "            for i in range(1,K+1):\n",
    "                if ((x0 > q[i-1]) & (x0 <= q[i])):\n",
    "                    I = i\n",
    "        X_ind = np.sum([1 if ((z[0] > q[I-1]) & (z[0] <= q[I])) else 0 for z in x_y])\n",
    "        s = s + X_ind\n",
    "        X = np.sum([z[0] if ((z[0] > q[I-1]) & (z[0] <= q[I])) else 0 for z in x_y])\n",
    "        X_sq = np.sum([z[0]*z[0] if ((z[0] > q[I-1]) & (z[0] <= q[I])) else 0 for z in x_y])\n",
    "        Y = np.sum([z[1] if ((z[0] > q[I-1]) & (z[0] <= q[I])) else 0 for z in x_y])\n",
    "        YX = np.sum([z[1]*z[0] if ((z[0] > q[I-1]) & (z[0] <= q[I])) else 0 for z in x_y])\n",
    "        det = X_sq*X_ind-X*X\n",
    "        a = (X_ind*YX-X*Y)/det\n",
    "        b = (-X*YX+X_sq*Y)/det\n",
    "        y_output = np.append(y_output,np.multiply(a,x0) + b)\n",
    "#     I = []\n",
    "#     s=0\n",
    "#     y_output = []\n",
    "#     a = np.empty(K)\n",
    "#     b = np.empty(K)\n",
    "#     X_ind = np.empty(K)\n",
    "#     X = np.empty(K)\n",
    "#     X_sq = np.empty(K)\n",
    "#     Y = np.empty(K)\n",
    "#     YX = np.empty(K)\n",
    "#     x_y = np.stack((x,y.reshape(-1,1)),axis=1)\n",
    "#     for x0 in x_input:\n",
    "#         if x0 == 0:\n",
    "#             I = 1\n",
    "#         else:\n",
    "#             for i in range(1,K+1):\n",
    "#                 if ((x0 > q[i-1]) & (x0 <= q[i])):\n",
    "#                     I = i\n",
    "#         X_ind = np.sum([1 if ((z[0] > q[I-1]) & (z[0] <= q[I])) else 0 for z in x_y])\n",
    "#         s = s + X_ind\n",
    "#         X = np.sum([z[0] if ((z[0] > q[I-1]) & (z[0] <= q[I])) else 0 for z in x_y])\n",
    "#         X_sq = np.sum([z[0]*z[0] if ((z[0] > q[I-1]) & (z[0] <= q[I])) else 0 for z in x_y])\n",
    "#         Y = np.sum([z[1] if ((z[0] > q[I-1]) & (z[0] <= q[I])) else 0 for z in x_y])\n",
    "#         YX = np.sum([z[1]*z[0] if ((z[0] > q[I-1]) & (z[0] <= q[I])) else 0 for z in x_y])\n",
    "#         det = X_sq*X_ind-X*X\n",
    "#         a = (X_ind*YX-X*Y)/det\n",
    "#         b = (-X*YX+X_sq*Y)/det\n",
    "#         y_output = np.append(y_output,np.multiply(a,x0) + b)\n",
    "    print(s)\n",
    "    return y_output"
   ]
  },
  {
   "cell_type": "code",
   "execution_count": 59,
   "id": "removable-marina",
   "metadata": {
    "scrolled": false
   },
   "outputs": [
    {
     "name": "stderr",
     "output_type": "stream",
     "text": [
      "/Library/Frameworks/Python.framework/Versions/3.9/lib/python3.9/site-packages/numpy/core/fromnumeric.py:87: VisibleDeprecationWarning: Creating an ndarray from ragged nested sequences (which is a list-or-tuple of lists-or-tuples-or ndarrays with different lengths or shapes) is deprecated. If you meant to do this, you must specify 'dtype=object' when creating the ndarray\n",
      "  return ufunc.reduce(obj, axis, dtype, out, **passkwargs)\n"
     ]
    },
    {
     "name": "stdout",
     "output_type": "stream",
     "text": [
      "30000000\n"
     ]
    }
   ],
   "source": [
    "K = 10\n",
    "y_pred = base(x,y,np.linspace(0,1,30),K)"
   ]
  },
  {
   "cell_type": "code",
   "execution_count": 60,
   "id": "pediatric-suspension",
   "metadata": {},
   "outputs": [
    {
     "ename": "ValueError",
     "evalue": "x and y must have same first dimension, but have shapes (30,) and (3000,)",
     "output_type": "error",
     "traceback": [
      "\u001b[0;31m---------------------------------------------------------------------------\u001b[0m",
      "\u001b[0;31mValueError\u001b[0m                                Traceback (most recent call last)",
      "\u001b[0;32m<ipython-input-60-6a9388cb7650>\u001b[0m in \u001b[0;36m<module>\u001b[0;34m\u001b[0m\n\u001b[1;32m      1\u001b[0m \u001b[0;32mfrom\u001b[0m \u001b[0mmatplotlib\u001b[0m \u001b[0;32mimport\u001b[0m \u001b[0mpyplot\u001b[0m \u001b[0;32mas\u001b[0m \u001b[0mplt\u001b[0m\u001b[0;34m\u001b[0m\u001b[0;34m\u001b[0m\u001b[0m\n\u001b[1;32m      2\u001b[0m \u001b[0mplt\u001b[0m\u001b[0;34m.\u001b[0m\u001b[0mplot\u001b[0m\u001b[0;34m(\u001b[0m\u001b[0mx\u001b[0m\u001b[0;34m,\u001b[0m\u001b[0my\u001b[0m\u001b[0;34m,\u001b[0m \u001b[0;34m'k,'\u001b[0m\u001b[0;34m)\u001b[0m\u001b[0;34m\u001b[0m\u001b[0;34m\u001b[0m\u001b[0m\n\u001b[0;32m----> 3\u001b[0;31m \u001b[0mplt\u001b[0m\u001b[0;34m.\u001b[0m\u001b[0mplot\u001b[0m\u001b[0;34m(\u001b[0m\u001b[0mnp\u001b[0m\u001b[0;34m.\u001b[0m\u001b[0mlinspace\u001b[0m\u001b[0;34m(\u001b[0m\u001b[0;36m0\u001b[0m\u001b[0;34m,\u001b[0m\u001b[0;36m1\u001b[0m\u001b[0;34m,\u001b[0m\u001b[0;36m30\u001b[0m\u001b[0;34m)\u001b[0m\u001b[0;34m,\u001b[0m\u001b[0my_pred\u001b[0m\u001b[0;34m,\u001b[0m \u001b[0;34m'b,'\u001b[0m\u001b[0;34m)\u001b[0m\u001b[0;34m\u001b[0m\u001b[0;34m\u001b[0m\u001b[0m\n\u001b[0m\u001b[1;32m      4\u001b[0m \u001b[0mplt\u001b[0m\u001b[0;34m.\u001b[0m\u001b[0mplot\u001b[0m\u001b[0;34m(\u001b[0m\u001b[0mnp\u001b[0m\u001b[0;34m.\u001b[0m\u001b[0mlinspace\u001b[0m\u001b[0;34m(\u001b[0m\u001b[0;36m0\u001b[0m\u001b[0;34m,\u001b[0m\u001b[0;36m1\u001b[0m\u001b[0;34m,\u001b[0m\u001b[0;36m30\u001b[0m\u001b[0;34m)\u001b[0m\u001b[0;34m,\u001b[0m\u001b[0my_lin\u001b[0m\u001b[0;34m,\u001b[0m \u001b[0;34m'r'\u001b[0m\u001b[0;34m)\u001b[0m\u001b[0;34m\u001b[0m\u001b[0;34m\u001b[0m\u001b[0m\n",
      "\u001b[0;32m/Library/Frameworks/Python.framework/Versions/3.9/lib/python3.9/site-packages/matplotlib/pyplot.py\u001b[0m in \u001b[0;36mplot\u001b[0;34m(scalex, scaley, data, *args, **kwargs)\u001b[0m\n\u001b[1;32m   2838\u001b[0m \u001b[0;34m@\u001b[0m\u001b[0m_copy_docstring_and_deprecators\u001b[0m\u001b[0;34m(\u001b[0m\u001b[0mAxes\u001b[0m\u001b[0;34m.\u001b[0m\u001b[0mplot\u001b[0m\u001b[0;34m)\u001b[0m\u001b[0;34m\u001b[0m\u001b[0;34m\u001b[0m\u001b[0m\n\u001b[1;32m   2839\u001b[0m \u001b[0;32mdef\u001b[0m \u001b[0mplot\u001b[0m\u001b[0;34m(\u001b[0m\u001b[0;34m*\u001b[0m\u001b[0margs\u001b[0m\u001b[0;34m,\u001b[0m \u001b[0mscalex\u001b[0m\u001b[0;34m=\u001b[0m\u001b[0;32mTrue\u001b[0m\u001b[0;34m,\u001b[0m \u001b[0mscaley\u001b[0m\u001b[0;34m=\u001b[0m\u001b[0;32mTrue\u001b[0m\u001b[0;34m,\u001b[0m \u001b[0mdata\u001b[0m\u001b[0;34m=\u001b[0m\u001b[0;32mNone\u001b[0m\u001b[0;34m,\u001b[0m \u001b[0;34m**\u001b[0m\u001b[0mkwargs\u001b[0m\u001b[0;34m)\u001b[0m\u001b[0;34m:\u001b[0m\u001b[0;34m\u001b[0m\u001b[0;34m\u001b[0m\u001b[0m\n\u001b[0;32m-> 2840\u001b[0;31m     return gca().plot(\n\u001b[0m\u001b[1;32m   2841\u001b[0m         \u001b[0;34m*\u001b[0m\u001b[0margs\u001b[0m\u001b[0;34m,\u001b[0m \u001b[0mscalex\u001b[0m\u001b[0;34m=\u001b[0m\u001b[0mscalex\u001b[0m\u001b[0;34m,\u001b[0m \u001b[0mscaley\u001b[0m\u001b[0;34m=\u001b[0m\u001b[0mscaley\u001b[0m\u001b[0;34m,\u001b[0m\u001b[0;34m\u001b[0m\u001b[0;34m\u001b[0m\u001b[0m\n\u001b[1;32m   2842\u001b[0m         **({\"data\": data} if data is not None else {}), **kwargs)\n",
      "\u001b[0;32m/Library/Frameworks/Python.framework/Versions/3.9/lib/python3.9/site-packages/matplotlib/axes/_axes.py\u001b[0m in \u001b[0;36mplot\u001b[0;34m(self, scalex, scaley, data, *args, **kwargs)\u001b[0m\n\u001b[1;32m   1741\u001b[0m         \"\"\"\n\u001b[1;32m   1742\u001b[0m         \u001b[0mkwargs\u001b[0m \u001b[0;34m=\u001b[0m \u001b[0mcbook\u001b[0m\u001b[0;34m.\u001b[0m\u001b[0mnormalize_kwargs\u001b[0m\u001b[0;34m(\u001b[0m\u001b[0mkwargs\u001b[0m\u001b[0;34m,\u001b[0m \u001b[0mmlines\u001b[0m\u001b[0;34m.\u001b[0m\u001b[0mLine2D\u001b[0m\u001b[0;34m)\u001b[0m\u001b[0;34m\u001b[0m\u001b[0;34m\u001b[0m\u001b[0m\n\u001b[0;32m-> 1743\u001b[0;31m         \u001b[0mlines\u001b[0m \u001b[0;34m=\u001b[0m \u001b[0;34m[\u001b[0m\u001b[0;34m*\u001b[0m\u001b[0mself\u001b[0m\u001b[0;34m.\u001b[0m\u001b[0m_get_lines\u001b[0m\u001b[0;34m(\u001b[0m\u001b[0;34m*\u001b[0m\u001b[0margs\u001b[0m\u001b[0;34m,\u001b[0m \u001b[0mdata\u001b[0m\u001b[0;34m=\u001b[0m\u001b[0mdata\u001b[0m\u001b[0;34m,\u001b[0m \u001b[0;34m**\u001b[0m\u001b[0mkwargs\u001b[0m\u001b[0;34m)\u001b[0m\u001b[0;34m]\u001b[0m\u001b[0;34m\u001b[0m\u001b[0;34m\u001b[0m\u001b[0m\n\u001b[0m\u001b[1;32m   1744\u001b[0m         \u001b[0;32mfor\u001b[0m \u001b[0mline\u001b[0m \u001b[0;32min\u001b[0m \u001b[0mlines\u001b[0m\u001b[0;34m:\u001b[0m\u001b[0;34m\u001b[0m\u001b[0;34m\u001b[0m\u001b[0m\n\u001b[1;32m   1745\u001b[0m             \u001b[0mself\u001b[0m\u001b[0;34m.\u001b[0m\u001b[0madd_line\u001b[0m\u001b[0;34m(\u001b[0m\u001b[0mline\u001b[0m\u001b[0;34m)\u001b[0m\u001b[0;34m\u001b[0m\u001b[0;34m\u001b[0m\u001b[0m\n",
      "\u001b[0;32m/Library/Frameworks/Python.framework/Versions/3.9/lib/python3.9/site-packages/matplotlib/axes/_base.py\u001b[0m in \u001b[0;36m__call__\u001b[0;34m(self, data, *args, **kwargs)\u001b[0m\n\u001b[1;32m    271\u001b[0m                 \u001b[0mthis\u001b[0m \u001b[0;34m+=\u001b[0m \u001b[0margs\u001b[0m\u001b[0;34m[\u001b[0m\u001b[0;36m0\u001b[0m\u001b[0;34m]\u001b[0m\u001b[0;34m,\u001b[0m\u001b[0;34m\u001b[0m\u001b[0;34m\u001b[0m\u001b[0m\n\u001b[1;32m    272\u001b[0m                 \u001b[0margs\u001b[0m \u001b[0;34m=\u001b[0m \u001b[0margs\u001b[0m\u001b[0;34m[\u001b[0m\u001b[0;36m1\u001b[0m\u001b[0;34m:\u001b[0m\u001b[0;34m]\u001b[0m\u001b[0;34m\u001b[0m\u001b[0;34m\u001b[0m\u001b[0m\n\u001b[0;32m--> 273\u001b[0;31m             \u001b[0;32myield\u001b[0m \u001b[0;32mfrom\u001b[0m \u001b[0mself\u001b[0m\u001b[0;34m.\u001b[0m\u001b[0m_plot_args\u001b[0m\u001b[0;34m(\u001b[0m\u001b[0mthis\u001b[0m\u001b[0;34m,\u001b[0m \u001b[0mkwargs\u001b[0m\u001b[0;34m)\u001b[0m\u001b[0;34m\u001b[0m\u001b[0;34m\u001b[0m\u001b[0m\n\u001b[0m\u001b[1;32m    274\u001b[0m \u001b[0;34m\u001b[0m\u001b[0m\n\u001b[1;32m    275\u001b[0m     \u001b[0;32mdef\u001b[0m \u001b[0mget_next_color\u001b[0m\u001b[0;34m(\u001b[0m\u001b[0mself\u001b[0m\u001b[0;34m)\u001b[0m\u001b[0;34m:\u001b[0m\u001b[0;34m\u001b[0m\u001b[0;34m\u001b[0m\u001b[0m\n",
      "\u001b[0;32m/Library/Frameworks/Python.framework/Versions/3.9/lib/python3.9/site-packages/matplotlib/axes/_base.py\u001b[0m in \u001b[0;36m_plot_args\u001b[0;34m(self, tup, kwargs)\u001b[0m\n\u001b[1;32m    397\u001b[0m \u001b[0;34m\u001b[0m\u001b[0m\n\u001b[1;32m    398\u001b[0m         \u001b[0;32mif\u001b[0m \u001b[0mx\u001b[0m\u001b[0;34m.\u001b[0m\u001b[0mshape\u001b[0m\u001b[0;34m[\u001b[0m\u001b[0;36m0\u001b[0m\u001b[0;34m]\u001b[0m \u001b[0;34m!=\u001b[0m \u001b[0my\u001b[0m\u001b[0;34m.\u001b[0m\u001b[0mshape\u001b[0m\u001b[0;34m[\u001b[0m\u001b[0;36m0\u001b[0m\u001b[0;34m]\u001b[0m\u001b[0;34m:\u001b[0m\u001b[0;34m\u001b[0m\u001b[0;34m\u001b[0m\u001b[0m\n\u001b[0;32m--> 399\u001b[0;31m             raise ValueError(f\"x and y must have same first dimension, but \"\n\u001b[0m\u001b[1;32m    400\u001b[0m                              f\"have shapes {x.shape} and {y.shape}\")\n\u001b[1;32m    401\u001b[0m         \u001b[0;32mif\u001b[0m \u001b[0mx\u001b[0m\u001b[0;34m.\u001b[0m\u001b[0mndim\u001b[0m \u001b[0;34m>\u001b[0m \u001b[0;36m2\u001b[0m \u001b[0;32mor\u001b[0m \u001b[0my\u001b[0m\u001b[0;34m.\u001b[0m\u001b[0mndim\u001b[0m \u001b[0;34m>\u001b[0m \u001b[0;36m2\u001b[0m\u001b[0;34m:\u001b[0m\u001b[0;34m\u001b[0m\u001b[0;34m\u001b[0m\u001b[0m\n",
      "\u001b[0;31mValueError\u001b[0m: x and y must have same first dimension, but have shapes (30,) and (3000,)"
     ]
    },
    {
     "data": {
      "image/png": "[encoded data removed]",
      "text/plain": [
       "<Figure size 432x288 with 1 Axes>"
      ]
     },
     "metadata": {
      "needs_background": "light"
     },
     "output_type": "display_data"
    }
   ],
   "source": [
    "from matplotlib import pyplot as plt\n",
    "plt.plot(x,y, 'k,')\n",
    "plt.plot(np.linspace(0,1,30),y_pred, 'b,')\n",
    "plt.plot(np.linspace(0,1,30),y_lin, 'r')"
   ]
  },
  {
   "cell_type": "code",
   "execution_count": null,
   "id": "fewer-begin",
   "metadata": {},
   "outputs": [],
   "source": [
    "q = np.zeros(K+1)\n",
    "for k in range(1,K+1):\n",
    "    q[k] = np.quantile(x, k/K)\n",
    "q[-1]=x_p"
   ]
  },
  {
   "cell_type": "code",
   "execution_count": null,
   "id": "correct-grave",
   "metadata": {},
   "outputs": [],
   "source": [
    "q"
   ]
  },
  {
   "cell_type": "code",
   "execution_count": null,
   "id": "strong-north",
   "metadata": {},
   "outputs": [],
   "source": [
    "I = []\n",
    "y_output = []\n",
    "a = np.empty(K)\n",
    "b = np.empty(K)\n",
    "X_ind = np.empty(K)\n",
    "X = np.empty(K)\n",
    "X_sq = np.empty(K)\n",
    "Y = np.empty(K)\n",
    "YX = np.empty(K)\n",
    "for x0 in np.linspace(0,x_p,3000):\n",
    "    if x0 == 0:\n",
    "        I = 1\n",
    "    else:\n",
    "        for i in range(1,K+1):\n",
    "            if ((x0 > q[i-1]) & (x0 <= q[i])):\n",
    "                I = i\n",
    "    X_ind = np.sum([1 if ((z[0] > q[I-1]) & (z[0] <= q[I])) else 0 for z in x_y])\n",
    "    X = np.sum([z[0] if ((z[0] > q[I-1]) & (z[0] <= q[I])) else 0 for z in x_y])\n",
    "    X_sq = np.sum([z[0]*z[0] if ((z[0] > q[I-1]) & (z[0] <= q[I])) else 0 for z in x_y])\n",
    "    Y = np.sum([z[1] if ((z[0] > q[I-1]) & (z[0] <= q[I])) else 0 for z in x_y])\n",
    "    YX = np.sum([z[1]*z[0] if ((z[0] > q[I-1]) & (z[0] <= q[I])) else 0 for z in x_y])\n",
    "    det = X_sq*X_ind-X*X\n",
    "    a = (X_ind*YX-X*Y)/det\n",
    "    b = (-X*YX+X_sq*Y)/det\n",
    "    y_output = np.append(y_output,np.multiply(a,x0) + b)\n",
    "y_output"
   ]
  },
  {
   "cell_type": "code",
   "execution_count": null,
   "id": "sized-victor",
   "metadata": {},
   "outputs": [],
   "source": [
    "plt.plot(x,y, 'k,')\n",
    "plt.plot(np.linspace(0,1,3000),y_output, 'b,')"
   ]
  },
  {
   "cell_type": "code",
   "execution_count": null,
   "id": "optional-champagne",
   "metadata": {},
   "outputs": [],
   "source": [
    "np.power(0.1,0.5)"
   ]
  },
  {
   "cell_type": "code",
   "execution_count": null,
   "id": "technological-excess",
   "metadata": {},
   "outputs": [],
   "source": []
  }
 ],
 "metadata": {
  "kernelspec": {
   "display_name": "Python 3",
   "language": "python",
   "name": "python3"
  },
  "language_info": {
   "codemirror_mode": {
    "name": "ipython",
    "version": 3
   },
   "file_extension": ".py",
   "mimetype": "text/x-python",
   "name": "python",
   "nbconvert_exporter": "python",
   "pygments_lexer": "ipython3",
   "version": "3.9.1"
  }
 },
 "nbformat": 4,
 "nbformat_minor": 5
}
