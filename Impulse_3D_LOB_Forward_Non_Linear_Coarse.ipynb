{
  "cells": [
    {
      "cell_type": "markdown",
      "metadata": {
        "id": "view-in-github",
        "colab_type": "text"
      },
      "source": [
        "<a href=\"https://colab.research.google.com/github/arashfahim/Corporate-Governance-and-Asset-Pricing/blob/main/Impulse_3D_LOB_Forward_Non_Linear_Coarse.ipynb\" target=\"_parent\"><img src=\"https://colab.research.google.com/assets/colab-badge.svg\" alt=\"Open In Colab\"/></a>"
      ]
    },
    {
      "cell_type": "markdown",
      "source": [
        "Running cost\n",
        "\n",
        "$\\sum_{t=0}^{T-1}D_t\\xi_t+\\frac{\\kappa}{2}\\xi^{1+\\alpha}_t$\n",
        "\n",
        "Terminal cost\n",
        "\n",
        "$D_T(R_0-\\sum_{t=0}^{T-1}\\xi_t)+\\frac{\\kappa}{2}(R_0-\\sum_{t=0}^{T-1}\\xi_t)^{1+\\alpha}$\n",
        "\n",
        "For $T=2$, the total loss is\n",
        "\n",
        "$D_0\\xi_0+\\frac{\\kappa}{2}\\xi^{1+\\alpha}_0+D_1(R_0-\\xi_0)+\\frac{\\kappa}{2}(R_0-\\xi_0)^{1+\\alpha}$\n",
        "\n",
        "$D_1=\\rho(D_0+\\kappa \\xi_0^{\\alpha})$\n",
        "\n",
        "loss$=D_0\\xi_0+\\frac{\\kappa}{2}\\xi^{1+\\alpha}_0+\\rho(D_0+\\kappa \\xi_0^{\\alpha})(R_0-\\xi_0)+\\frac{\\kappa}{2}(R_0-\\xi_0)^{1+\\alpha}$\n",
        "\n",
        "$=D_0\\xi_0+\\frac{\\kappa}{2}\\xi^{1+\\alpha}_0+\\rho D_0R_0-\\rho D_0\\xi_0+\\rho R_0\\kappa \\xi_0^{\\alpha}-\\rho \\kappa \\xi_0^{1+\\alpha}+\\frac{\\kappa}{2}(R_0-\\xi_0)^{1+\\alpha}$\n",
        "\n",
        "\n",
        "\n",
        "$=\\rho D_0R_0+D_0(1-\\rho)\\xi_0 + \\frac{\\kappa}{2}(R_0^2-2(1-\\rho)\\xi_0(R_0-\\xi_0))=\\rho D_0R_0+\\frac{\\kappa}{2}R_0^2+D_0(1-\\rho)\\xi_0 - {\\kappa}(1-\\rho)\\xi_0(R_0-\\xi_0)$\n",
        "\n",
        "$(1-\\rho){\\kappa}\\xi_0(\\frac{D_0}{\\kappa} - R_0+\\xi_0)$\n",
        "\n",
        "\n",
        "$\\xi_0(\\frac{D_0}{\\kappa} - R_0+\\xi_0)$\n",
        "\n",
        "------------------------------\n",
        "\n",
        "Minimization:\n",
        "\n",
        "\n",
        "$\\xi_0^*=\\frac{R_0-\\frac{D_0}{\\kappa}}{2}=\\frac{\\kappa R_0-{D_0}{}}{2\\kappa}$\n",
        "\n",
        "-------------------------------\n",
        "\n",
        "If $D_0=0$, $\\xi_0=\\frac{R_0}{2}$.\n",
        "\n",
        "Total cost\n",
        "\n",
        "\n",
        "$D_0\\frac{\\kappa R_0-D_0}{2\\kappa}+\\frac{\\kappa}{2}\\frac{(\\kappa R_0-D_0)^2}{4\\kappa^2}+D_1(R_0-\\frac{\\kappa R_0-D_0}{2\\kappa})+\\frac{\\kappa}{2}(R_0-\\frac{\\kappa R_0-D_0}{2\\kappa})^2$\n",
        "\n",
        "\n",
        "If $D_0=0$, $\\frac{\\kappa}{4}(1+\\rho)R_0^2$\n"
      ],
      "metadata": {
        "id": "EAeVrisqJHHm"
      }
    },
    {
      "cell_type": "code",
      "execution_count": null,
      "metadata": {
        "id": "PqNL-4FAgMis"
      },
      "outputs": [],
      "source": [
        "import numpy as np\n",
        "import json\n",
        "from scipy import misc\n",
        "import matplotlib.pyplot as plt\n",
        "from matplotlib.pyplot import cm\n",
        "import torch\n",
        "import torch.nn as nn\n",
        "import torch.nn.functional as F\n",
        "import torch.optim as optim\n",
        "import torch.optim.lr_scheduler as lr_scheduler\n",
        "import random\n",
        "import math\n",
        "import pandas as pd\n",
        "import cvxpy as cp\n",
        "from scipy.optimize import fsolve\n",
        "import time\n",
        "import os"
      ]
    },
    {
      "cell_type": "code",
      "source": [
        "from google.colab import drive\n",
        "drive.mount('/content/gdrive')"
      ],
      "metadata": {
        "id": "MpGALyAWok9D",
        "outputId": "bf0b581f-e671-45bf-8f98-19dbda01e9a3",
        "colab": {
          "base_uri": "https://localhost:8080/"
        }
      },
      "execution_count": null,
      "outputs": [
        {
          "output_type": "stream",
          "name": "stdout",
          "text": [
            "Mounted at /content/gdrive\n"
          ]
        }
      ]
    },
    {
      "cell_type": "code",
      "source": [
        "PATH = r\"/content/gdrive/MyDrive/LOB_multi_scale_models/\""
      ],
      "metadata": {
        "id": "lhBeFrcCouOw"
      },
      "execution_count": null,
      "outputs": []
    },
    {
      "cell_type": "markdown",
      "source": [
        "# New implementation for GPU"
      ],
      "metadata": {
        "id": "tdhilbNcbHgu"
      }
    },
    {
      "cell_type": "code",
      "source": [
        "device = torch.device(\"cuda:0\" if torch.cuda.is_available() else \"cpu\")"
      ],
      "metadata": {
        "id": "vFUFxSwZ4I2p"
      },
      "execution_count": null,
      "outputs": []
    },
    {
      "cell_type": "code",
      "source": [
        "param_dict = {\n",
        "        'M' : 100,# number of samples\n",
        "        'T' : 10.0, # terminal time\n",
        "        'iter' : 20, #number of steps minus terminal\n",
        "        'kappa' : 1e-3, #price impact sensitivity factor\n",
        "        'rho' : 1e-2, #resillience<1\n",
        "        'alpha' : 1.0, #price impact exponent\n",
        "        'X0' : 10000\n",
        "}"
      ],
      "metadata": {
        "id": "T1brENIxTbQc"
      },
      "execution_count": null,
      "outputs": []
    },
    {
      "cell_type": "code",
      "source": [
        "class opt_exe(nn.Module):#multi_step, optimal_control\n",
        "    def __init__(self,params):\n",
        "        super(opt_exe, self).__init__()\n",
        "        self.layer = torch.nn.Sequential()\n",
        "        self.layer.add_module(\"L1\",torch.nn.Linear(3, 100))#1d\n",
        "        self.layer.add_module(\"Tanh\", torch.nn.Tanh())\n",
        "        self.layer.add_module(\"L2\",torch.nn.Linear(100,120))\n",
        "        self.layer.add_module(\"Tanh\", torch.nn.Tanh())\n",
        "        self.layer.add_module(\"L3\",torch.nn.Linear(120,100))\n",
        "        self.layer.add_module(\"Tanh\", torch.nn.Tanh())\n",
        "        self.layer.add_module(\"L4\",torch.nn.Linear(100,1))\n",
        "        self.M = params['M']# number of samples\n",
        "        self.T= params['T'] # terminal time\n",
        "        self.iter = params['iter'] #number of steps minus terminal\n",
        "        self.Dt= torch.Tensor([self.T/self.iter]).to(device) #time step\n",
        "        self.kappa=torch.Tensor([params['kappa']]).to(device) #price impact sensitivity factor\n",
        "        self.rho=torch.exp(-params['rho']*self.Dt).to(device) #resillience<1\n",
        "        self.alpha= params['alpha'] #price impact exponent\n",
        "        self.X0=params['X0']\n",
        "        self.D = torch.zeros([self.M,1]).to(device)\n",
        "        self.R=torch.linspace(self.X0*0.85,self.X0*1.15,self.M).unsqueeze(-1).to(device)#torch.FloatTensor(self.M,1).uniform_(self.X0*0.95,self.X0*1.05).to(device)\n",
        "        self.tx = torch.cat(((torch.Tensor([0.0]).repeat([self.M,1])).to(device),self.D,self.R),axis=1)\n",
        "        self.opt_path = torch.zeros([self.M,self.iter+1,3]).to(device)\n",
        "        self.opt_exe = torch.zeros([self.M,self.iter+1]).to(device)\n",
        "\n",
        "    def forward(self, tx):\n",
        "        val = self.layer(tx)\n",
        "        return val#torch.Tensor([0.5]).to(device)*tx[:,-1]#val\n",
        "\n",
        "    def unit(self,tx):\n",
        "        exe_ = self.forward(tx)# \\xi(t,X_t) optimal strategy\n",
        "        co_ = (tx[:,1]*exe_.squeeze(-1)+torch.Tensor([1/(1+self.alpha)]).to(device)*self.kappa *torch.pow(torch.abs(exe_.squeeze(-1)),1+self.alpha))#*self.Dt impulse control does not have Delta t\n",
        "        up_ = torch.cat((tx[:,0].unsqueeze(-1)+self.Dt, self.rho*(tx[:,1].unsqueeze(-1)+self.Dt*self.kappa*torch.sign(exe_)*torch.pow(torch.abs(exe_),self.alpha)), tx[:,2].unsqueeze(-1)-exe_),axis=1)\n",
        "        return exe_, co_, up_\n",
        "\n",
        "    def loss(self):\n",
        "        for i in range(self.iter):\n",
        "            if i == 0:\n",
        "                #X_0=(0,0,R_0)\n",
        "                tx = self.tx\n",
        "                # self.tx[:,i,:] = tx\n",
        "                exe_, co_, up_ = self.unit(tx) # \\xi(0,X_0), running cost for X_0, X_{t_1}\n",
        "                # print(\"exe:\",exe_,\"cost:\",co_,\"update:\",up_)\n",
        "                cost = co_ #record running cost\n",
        "                # sum = exe_ # record executed order\n",
        "                # print(\"price impact:\", up_[:,1])\n",
        "                # print(\"exe \",exe_)\n",
        "            else:\n",
        "                # self.tx[:,i,:] = up_\n",
        "                exe_, co_, up_ = self.unit(up_) # \\xi(t_i,X_{t_i}), running cost for X_{t_i}, X_{t_{i+1}}\n",
        "                cost = cost + co_ # add the running cost\n",
        "                # sum = sum + exe_  # add the executed order to total\n",
        "        # last step\n",
        "        # print(up_)\n",
        "        # self.tx[:,self.iter,:] = up_\n",
        "        # print(self.R)\n",
        "        # remain = self.R - sum # remaining balance carried to the last order\n",
        "        # print(remain,up_[:,-1])\n",
        "        cost = cost + self.Dt*(up_[:,1]*up_[:,-1]+torch.Tensor([1/(1+self.alpha)]).to(device)*self.kappa *torch.pow(torch.abs(up_[:,-1]),1+self.alpha)).squeeze(-1)   # cost of last order\n",
        "        return torch.mean(cost)\n",
        "\n",
        "    def approx_loss_2(self):\n",
        "        for i in range(self.iter):\n",
        "            if i == 0:\n",
        "                self.opt_path[:,i,:] = self.tx.squeeze(-1)\n",
        "                exe_, co_, up_ = self.unit(self.tx) # \\xi(0,X_0), running cost for X_0, X_{t_1}\n",
        "                cost = co_ #record running cost\n",
        "                # sum = exe_ # record executed order\n",
        "                # print(exe_)\n",
        "                self.opt_exe[:,i] = exe_.squeeze(-1)\n",
        "            else:\n",
        "                self.opt_path[:,i,:] = up_\n",
        "                exe_, co_, up_ = self.unit(up_) # \\xi(t_i,X_{t_i}), running cost for X_{t_i}, X_{t_{i+1}}\n",
        "                cost = cost + co_ # add the running cost\n",
        "                # sum = sum + exe_  # add the executed order to total\n",
        "                # print(exe_)\n",
        "                self.opt_exe[:,i] = exe_.squeeze(-1)\n",
        "        # last step\n",
        "        self.opt_path[:,self.iter,:] = up_\n",
        "        # print(exe_)\n",
        "        remain = up_[:,-1] # remaining balance carried to the last order\n",
        "        self.opt_exe[:,self.iter] = remain\n",
        "        cost = cost + self.Dt*(up_[:,1]*remain+torch.Tensor([1/(1+self.alpha)]).to(device)*self.kappa *torch.pow(torch.abs(remain),1+self.alpha))   # cost of last order\n",
        "        return torch.mean(cost)#torch.cat((tx[:,-1].unsqueeze(-1),cost.unsqueeze(-1)),axis=1)\n",
        "\n",
        "\n",
        "    def optimal_path(self,tx):\n",
        "        M = tx.shape[0]\n",
        "        opt_path = torch.zeros([M,self.iter+1,3]).to(device)\n",
        "        opt_exe = torch.zeros([M,self.iter+1]).to(device)\n",
        "        for i in range(self.iter):\n",
        "            if i == 0:\n",
        "                opt_path[:,i,:] = tx.squeeze(-1)\n",
        "                exe_, co_, up_ = self.unit(tx) # \\xi(0,X_0), running cost for X_0, X_{t_1}\n",
        "                cost = co_ #record running cost\n",
        "                # sum = exe_ # record executed order\n",
        "                # print(exe_)\n",
        "                # print(i,\":\",exe_,\",\",up_[:,-1])\n",
        "                opt_exe[:,i] = exe_.squeeze(-1)\n",
        "            else:\n",
        "                opt_path[:,i,:] = up_\n",
        "                exe_, co_, up_ = self.unit(up_) # \\xi(t_i,X_{t_i}), running cost for X_{t_i}, X_{t_{i+1}}\n",
        "                cost = cost + co_ # add the running cost\n",
        "                # sum = sum + exe_  # add the executed order to total\n",
        "                # print(i,\":\",exe_,\",\",up_[:,-1])\n",
        "                opt_exe[:,i] = exe_.squeeze(-1)\n",
        "        # last step\n",
        "        opt_path[:,self.iter,:] = up_\n",
        "        # print(exe_)\n",
        "        remain = up_[:,-1] # remaining balance carried to the last order\n",
        "        # print(\"last: \",remain)\n",
        "        opt_exe[:,self.iter] = remain\n",
        "        cost = cost + self.Dt*(up_[:,1]*remain+torch.Tensor([1/(1+self.alpha)]).to(device)*self.kappa *torch.pow(torch.abs(remain),1+self.alpha))   # cost of last order\n",
        "        return opt_path, opt_exe, cost#torch.cat((tx[:,-1].unsqueeze(-1),cost.unsqueeze(-1)),axis=1)\n",
        "\n",
        "    def visualize(self):\n",
        "        self.approx_loss_2()\n",
        "        self.eval_closed_form()\n",
        "        ind = range(30,self.M-30,20)\n",
        "        h = []\n",
        "        l = []\n",
        "        color = cm.rainbow(np.linspace(0, 1, len(ind)))\n",
        "        fig, ax = plt.subplots(len(ind),1,figsize=(len(ind)*2.5,5),dpi=300)\n",
        "        for i in range(len(ind)):\n",
        "            ax[i].bar(self.opt_path[ind[i],:,0].cpu().detach().numpy(),self.opt_exe[ind[i],:].clone().detach().cpu().numpy(),label=r\"$R_0$=\"+str(self.R[ind[i],0].detach().cpu().numpy()),color=color[i],width=0.5*p1.Dt.cpu().numpy())\n",
        "            h_, l_ = ax[i].get_legend_handles_labels()\n",
        "            h = h + h_\n",
        "            l = l + l_\n",
        "\n",
        "        ax[0].legend(h,l,loc='best',bbox_to_anchor=(1.0, 0.1, 0.2, 0.5));#, );\n",
        "        plt.tight_layout();\n",
        "\n",
        "    def eval_closed_form(self):\n",
        "        self.closed_form = dict()\n",
        "        # output = dict()\n",
        "        for index, X0 in enumerate(self.R):\n",
        "            cls0 = [X0/(2+(self.iter-1)*(1-self.rho))]\n",
        "            cls = [(1-self.rho)*cls0[0]]*(self.iter-1)\n",
        "            cls_ = cls0\n",
        "            cls = cls0+cls+cls_\n",
        "            vt = torch.Tensor(cls)\n",
        "            v = vt.detach().cpu().numpy()\n",
        "            tau = self.rho.detach().cpu().numpy()\n",
        "            Q = np.fromfunction(lambda i, j: np.power(tau,np.abs(i-j)), (self.iter+1, self.iter+1), dtype=float)\n",
        "            cost = torch.from_numpy(0.5*np.matmul(np.matmul(v,Q),v.reshape(self.iter+1,1))).to(device)*self.kappa#*self.Dt impulse control does not have Delta t\n",
        "            # x = X0[0].detach().cpu().numpy()\n",
        "            # print(x)\n",
        "            # output[X0] = [vt,cost]\n",
        "            self.closed_form[index] = [X0,vt,cost]\n"
      ],
      "metadata": {
        "id": "aht2RHYvkFJo"
      },
      "execution_count": null,
      "outputs": []
    },
    {
      "cell_type": "code",
      "source": [
        "p1 = opt_exe(param_dict).to(device)"
      ],
      "metadata": {
        "id": "FXEqKR_kqz9Z"
      },
      "execution_count": null,
      "outputs": []
    },
    {
      "cell_type": "markdown",
      "source": [
        "**path to save the outcome**"
      ],
      "metadata": {
        "id": "ztv_NMbsmIUF"
      }
    },
    {
      "cell_type": "code",
      "source": [
        "od = p1.state_dict()\n",
        "arch = '3D'\n",
        "for key, value in od.items():\n",
        "    if 'bias' in key:\n",
        "        arch = \"-\".join([arch,str(value.shape[0])])\n",
        "nom = ''\n",
        "for k,v in param_dict.items():\n",
        "    nom = nom + '_' + k + '_' + str(v)\n",
        "path = PATH + arch + nom\n",
        "if not os.path.exists(path):\n",
        "    os.mkdir(path)\n",
        "with open(path+\"/params.json\", \"w\") as outfile:\n",
        "    json_object = json.dumps(param_dict, indent=4)\n",
        "    outfile.write(json_object)"
      ],
      "metadata": {
        "id": "6dn0QY_wltE4"
      },
      "execution_count": null,
      "outputs": []
    },
    {
      "cell_type": "code",
      "source": [
        "p1.tx[10,:].unsqueeze(0)"
      ],
      "metadata": {
        "id": "rNv6oI5tShqa",
        "outputId": "65765ce6-f40b-4759-cea6-a4b2956fe3e2",
        "colab": {
          "base_uri": "https://localhost:8080/"
        }
      },
      "execution_count": null,
      "outputs": [
        {
          "output_type": "execute_result",
          "data": {
            "text/plain": [
              "tensor([[   0.0000,    0.0000, 8803.0303]], device='cuda:0')"
            ]
          },
          "metadata": {},
          "execution_count": 9
        }
      ]
    },
    {
      "cell_type": "code",
      "source": [
        "# p1(p1.tx)"
      ],
      "metadata": {
        "id": "isPnUk2RWoe4"
      },
      "execution_count": null,
      "outputs": []
    },
    {
      "cell_type": "code",
      "source": [
        "p1.optimal_path(p1.tx)[0].shape,p1.optimal_path(p1.tx)[1].shape"
      ],
      "metadata": {
        "id": "1RzGwitizJkz",
        "outputId": "55bdbf81-2add-49a5-d2a5-7943e6bef62c",
        "colab": {
          "base_uri": "https://localhost:8080/"
        }
      },
      "execution_count": null,
      "outputs": [
        {
          "output_type": "execute_result",
          "data": {
            "text/plain": [
              "(torch.Size([100, 21, 3]), torch.Size([100, 21]))"
            ]
          },
          "metadata": {},
          "execution_count": 11
        }
      ]
    },
    {
      "cell_type": "code",
      "source": [
        "p1.approx_loss_2()"
      ],
      "metadata": {
        "colab": {
          "base_uri": "https://localhost:8080/"
        },
        "id": "-43YlM8EHrrk",
        "outputId": "f3c20100-a39e-417e-c52c-852720ae920f"
      },
      "execution_count": null,
      "outputs": [
        {
          "output_type": "execute_result",
          "data": {
            "text/plain": [
              "tensor(25199.3340, device='cuda:0', grad_fn=<MeanBackward0>)"
            ]
          },
          "metadata": {},
          "execution_count": 12
        }
      ]
    },
    {
      "cell_type": "code",
      "source": [
        "p1.loss()"
      ],
      "metadata": {
        "colab": {
          "base_uri": "https://localhost:8080/"
        },
        "id": "S3WpUTsKsYe0",
        "outputId": "6ea21eab-cbd7-4f12-a67b-f5fe3459af3e"
      },
      "execution_count": null,
      "outputs": [
        {
          "output_type": "execute_result",
          "data": {
            "text/plain": [
              "tensor(25199.3340, device='cuda:0', grad_fn=<MeanBackward0>)"
            ]
          },
          "metadata": {},
          "execution_count": 13
        }
      ]
    },
    {
      "cell_type": "code",
      "source": [
        "lr1 = 1e-3\n",
        "# lr2 = 1e-2\n",
        "num_epochs = 1000\n",
        "optimizer1 = optim.Adam(p1.parameters(), lr1)#,weight_decay=1e-2\n",
        "# scheduler1 = lr_scheduler.LinearLR(optimizer1, start_factor=lr1, end_factor=lr2, total_iters=100)\n",
        "L_ = torch.Tensor([-2000.0]).to(device)\n",
        "cost = p1.loss()\n",
        "loss_epoch = dict()\n",
        "start=time.time()\n",
        "duration = 0\n",
        "epoch = 0\n",
        "err = 1e-10"
      ],
      "metadata": {
        "id": "0FTa3FUNsoa9"
      },
      "execution_count": null,
      "outputs": []
    },
    {
      "cell_type": "code",
      "source": [
        "while (torch.abs(L_-cost)/torch.abs(L_)>err) &  (epoch <= num_epochs):#\n",
        "    optimizer1.zero_grad()\n",
        "    cost=p1.loss()\n",
        "    cost.backward()\n",
        "    optimizer1.step()\n",
        "    #   before_lr = optimizer1.param_groups[0][\"lr\"]\n",
        "    #   scheduler1.step()\n",
        "    #   after_lr = optimizer1.param_groups[0][\"lr\"]\n",
        "    loss_epoch[epoch] = cost\n",
        "    if epoch>0:\n",
        "        L_ = loss_epoch[epoch-1]\n",
        "    if (epoch % 100==0):\n",
        "        print(\"At epoch {} the cost is {}.\".format(epoch,cost.detach()))\n",
        "        # print(\"Epoch %d: SGD lr %.4f -> %.4f\" % (epoch, before_lr, after_lr))\n",
        "        # print(\"We are currently at cost {} versus analytic {}\".format(p1.approx_loss_2(torch.Tensor([[0.0, 0.0, 10.0]]).to(device)),p1.analytic_loss_2(torch.Tensor([[10.0]]).to(device))))\n",
        "    if  (torch.abs(L_-cost)/torch.abs(L_)<=err):\n",
        "        print(\"Delta Loss = {} , epoch = {}\".format(torch.abs(L_-cost)/torch.abs(L_),epoch))\n",
        "        print(\"Final cost tally {}\".format(p1.approx_loss_2(),cost))#,p1.analytic_loss_2(torch.Tensor([[10.0]]).to(device))\n",
        "    epoch += 1\n",
        "end= time.time()\n",
        "duration += end-start\n",
        "print(\"Learning time: {}\".format(duration))"
      ],
      "metadata": {
        "colab": {
          "base_uri": "https://localhost:8080/"
        },
        "id": "DKYCuJd-vVDJ",
        "outputId": "a34fdcc3-ac64-4e1a-d88b-ac137b7c3add"
      },
      "execution_count": null,
      "outputs": [
        {
          "output_type": "stream",
          "name": "stdout",
          "text": [
            "At epoch 0 the cost is 25199.333984375.\n",
            "At epoch 100 the cost is 12845.6767578125.\n",
            "At epoch 200 the cost is 12829.66015625.\n",
            "Delta Loss = 0.0 , epoch = 233\n",
            "Final cost tally 12820.9599609375\n",
            "Learning time: 16.593934297561646\n"
          ]
        }
      ]
    },
    {
      "cell_type": "code",
      "source": [
        "loss_epoch_=dict()\n",
        "for k,v in loss_epoch.items():\n",
        "    loss_epoch_[k] = float(v.cpu().detach().numpy())"
      ],
      "metadata": {
        "id": "5rjEWJLvtago"
      },
      "execution_count": null,
      "outputs": []
    },
    {
      "cell_type": "code",
      "source": [
        "with open(path+\"/progress_ckeckpoint.json\", \"w\") as outfile:\n",
        "    json_object = json.dumps(loss_epoch_, indent=4)\n",
        "    outfile.write(json_object)"
      ],
      "metadata": {
        "id": "IrAUdtposg6e"
      },
      "execution_count": null,
      "outputs": []
    },
    {
      "cell_type": "code",
      "source": [
        "# pd.DataFrame(optimizer1.state_dict()).to_csv(path+\"/optimal_path.csv\", index=False)\n",
        "# optimizer1.state_dict()"
      ],
      "metadata": {
        "id": "ijBrN8yroIna"
      },
      "execution_count": null,
      "outputs": []
    },
    {
      "cell_type": "code",
      "source": [
        "p1.approx_loss_2()"
      ],
      "metadata": {
        "id": "na_itJ9rYeKG",
        "colab": {
          "base_uri": "https://localhost:8080/"
        },
        "outputId": "59fab570-bd9e-42b7-c4f8-5c0c9665d354"
      },
      "execution_count": null,
      "outputs": [
        {
          "output_type": "execute_result",
          "data": {
            "text/plain": [
              "tensor(12820.9600, device='cuda:0', grad_fn=<MeanBackward0>)"
            ]
          },
          "metadata": {},
          "execution_count": 19
        }
      ]
    },
    {
      "cell_type": "code",
      "source": [
        "p1.opt_path[50,:,-1]"
      ],
      "metadata": {
        "id": "CIA6ssHEs1MQ",
        "colab": {
          "base_uri": "https://localhost:8080/"
        },
        "outputId": "2fd7ed34-b8e0-439a-844c-7e931a676628"
      },
      "execution_count": null,
      "outputs": [
        {
          "output_type": "execute_result",
          "data": {
            "text/plain": [
              "tensor([10015.1514,  9520.7061,  9026.2607,  8531.8154,  8037.3701,  7542.9248,\n",
              "         7048.4795,  6554.0342,  6059.5889,  5565.1436,  5070.6982,  4576.2529,\n",
              "         4081.8079,  3587.3628,  3092.9185,  2598.4814,  2104.1270,  1610.8313,\n",
              "         1135.0348,   765.5770,   445.6503], device='cuda:0',\n",
              "       grad_fn=<SelectBackward0>)"
            ]
          },
          "metadata": {},
          "execution_count": 20
        }
      ]
    },
    {
      "cell_type": "code",
      "source": [
        "p1.opt_exe[10,:]"
      ],
      "metadata": {
        "id": "n9EhnGiruCqc",
        "colab": {
          "base_uri": "https://localhost:8080/"
        },
        "outputId": "b8d89484-0e63-4836-c440-39e14724bcf4"
      },
      "execution_count": null,
      "outputs": [
        {
          "output_type": "execute_result",
          "data": {
            "text/plain": [
              "tensor([ 494.4451,  494.4451,  494.4451,  494.4451,  494.4451,  494.4451,\n",
              "         494.4451,  494.4451,  494.4451,  494.4451,  494.4450,  494.4441,\n",
              "         494.4346,  494.3241,  492.8701,  467.6905,  355.6180,  311.6470,\n",
              "         294.6027, -252.0805,  210.5818], device='cuda:0',\n",
              "       grad_fn=<SliceBackward0>)"
            ]
          },
          "metadata": {},
          "execution_count": 21
        }
      ]
    },
    {
      "cell_type": "markdown",
      "source": [
        "# **Saving the model**"
      ],
      "metadata": {
        "id": "uy7IVGYwolhu"
      }
    },
    {
      "cell_type": "code",
      "source": [
        "torch.save(p1.state_dict(),path+\"/model.pt\")"
      ],
      "metadata": {
        "id": "FXpMGiCnpNim"
      },
      "execution_count": null,
      "outputs": []
    },
    {
      "cell_type": "code",
      "source": [
        "# pd.DataFrame(p1.opt_path.cpu().detach().numpy()).to_csv(path+\"/optimal_path.csv\", index=False)\n",
        "pd.DataFrame(p1.opt_exe.cpu().detach().numpy()).to_csv(path+\"/optimal_exe.csv\", index=False)"
      ],
      "metadata": {
        "id": "VICRVu-8qzJM"
      },
      "execution_count": null,
      "outputs": []
    },
    {
      "cell_type": "markdown",
      "source": [
        "# Visualization"
      ],
      "metadata": {
        "id": "YaRdagaPshh9"
      }
    },
    {
      "cell_type": "code",
      "source": [
        "p1.visualize()\n",
        "plt.savefig(path+\"/plots.svg\")\n",
        "\n"
      ],
      "metadata": {
        "id": "_e-im2R4gyP_",
        "outputId": "c30e6def-be38-4784-cfb4-dc72bf302abb",
        "colab": {
          "base_uri": "https://localhost:8080/",
          "height": 1000
        }
      },
      "execution_count": null,
      "outputs": [
        {
          "output_type": "display_data",
          "data": {
            "text/plain": [
              "<Figure size 1500x1500 with 2 Axes>"
            ],
            "image/png": "[encoded data removed]"
          },
          "metadata": {}
        }
      ]
    },
    {
      "cell_type": "code",
      "source": [
        "p1.closed_form[50]"
      ],
      "metadata": {
        "id": "v7uXRgqW1bdz",
        "outputId": "a9146078-15c5-494f-9ae7-bb0f3055b7d1",
        "colab": {
          "base_uri": "https://localhost:8080/"
        }
      },
      "execution_count": null,
      "outputs": [
        {
          "output_type": "execute_result",
          "data": {
            "text/plain": [
              "[tensor([10015.1514], device='cuda:0'),\n",
              " tensor([4781.0449,   23.8454,   23.8454,   23.8454,   23.8454,   23.8454,\n",
              "           23.8454,   23.8454,   23.8454,   23.8454,   23.8454,   23.8454,\n",
              "           23.8454,   23.8454,   23.8454,   23.8454,   23.8454,   23.8454,\n",
              "           23.8454,   23.8454, 4781.0449]),\n",
              " tensor([23881.7424], device='cuda:0', dtype=torch.float64)]"
            ]
          },
          "metadata": {},
          "execution_count": 25
        }
      ]
    },
    {
      "cell_type": "code",
      "source": [
        "p1.optimal_path(p1.tx[50,:].unsqueeze(0))"
      ],
      "metadata": {
        "id": "2kPWB2bf9w1x",
        "outputId": "3c6cdef4-6ae4-45aa-e199-c083d77b1440",
        "colab": {
          "base_uri": "https://localhost:8080/"
        }
      },
      "execution_count": null,
      "outputs": [
        {
          "output_type": "execute_result",
          "data": {
            "text/plain": [
              "(tensor([[[0.0000e+00, 0.0000e+00, 1.0015e+04],\n",
              "          [5.0000e-01, 2.4599e-01, 9.5207e+03],\n",
              "          [1.0000e+00, 4.9075e-01, 9.0263e+03],\n",
              "          [1.5000e+00, 7.3429e-01, 8.5318e+03],\n",
              "          [2.0000e+00, 9.7662e-01, 8.0374e+03],\n",
              "          [2.5000e+00, 1.2177e+00, 7.5429e+03],\n",
              "          [3.0000e+00, 1.4577e+00, 7.0485e+03],\n",
              "          [3.5000e+00, 1.6964e+00, 6.5540e+03],\n",
              "          [4.0000e+00, 1.9339e+00, 6.0596e+03],\n",
              "          [4.5000e+00, 2.1702e+00, 5.5651e+03],\n",
              "          [5.0000e+00, 2.4054e+00, 5.0707e+03],\n",
              "          [5.5000e+00, 2.6394e+00, 4.5763e+03],\n",
              "          [6.0000e+00, 2.8722e+00, 4.0818e+03],\n",
              "          [6.5000e+00, 3.1039e+00, 3.5874e+03],\n",
              "          [7.0000e+00, 3.3344e+00, 3.0929e+03],\n",
              "          [7.5000e+00, 3.5638e+00, 2.5985e+03],\n",
              "          [8.0000e+00, 3.7919e+00, 2.1041e+03],\n",
              "          [8.5000e+00, 4.0184e+00, 1.6108e+03],\n",
              "          [9.0000e+00, 4.2351e+00, 1.1350e+03],\n",
              "          [9.5000e+00, 4.3978e+00, 7.6558e+02],\n",
              "          [1.0000e+01, 4.5350e+00, 4.4565e+02]]], device='cuda:0',\n",
              "        grad_fn=<CopySlices>),\n",
              " tensor([[494.4450, 494.4450, 494.4450, 494.4450, 494.4450, 494.4450, 494.4450,\n",
              "          494.4450, 494.4450, 494.4450, 494.4450, 494.4450, 494.4450, 494.4443,\n",
              "          494.4371, 494.3546, 493.2958, 475.7969, 369.4584, 319.9269, 445.6529]],\n",
              "        device='cuda:0', grad_fn=<CopySlices>),\n",
              " tensor([12722.6709], device='cuda:0', grad_fn=<AddBackward0>))"
            ]
          },
          "metadata": {},
          "execution_count": 26
        }
      ]
    },
    {
      "cell_type": "code",
      "source": [
        "p1.tx[49,:]"
      ],
      "metadata": {
        "id": "OKYwa7lPA-xS",
        "outputId": "ff817b83-f63e-4b1c-84a9-90dee16d2366",
        "colab": {
          "base_uri": "https://localhost:8080/"
        }
      },
      "execution_count": null,
      "outputs": [
        {
          "output_type": "execute_result",
          "data": {
            "text/plain": [
              "tensor([   0.0000,    0.0000, 9984.8486], device='cuda:0')"
            ]
          },
          "metadata": {},
          "execution_count": 30
        }
      ]
    },
    {
      "cell_type": "code",
      "source": [
        "p1.optimal_path(p1.tx[50,:].unsqueeze(0))[1].sum()"
      ],
      "metadata": {
        "id": "VodLSwrw6Oxy",
        "outputId": "879e4037-02e2-4303-c4e7-f6308fdc36e5",
        "colab": {
          "base_uri": "https://localhost:8080/"
        }
      },
      "execution_count": null,
      "outputs": [
        {
          "output_type": "execute_result",
          "data": {
            "text/plain": [
              "tensor(10015.1523, device='cuda:0', grad_fn=<SumBackward0>)"
            ]
          },
          "metadata": {},
          "execution_count": 28
        }
      ]
    },
    {
      "cell_type": "code",
      "source": [
        "k = 50\n",
        "print(\"The percentage of relative error is {}%.\".format((torch.abs(p1.optimal_path(p1.tx[k,:].unsqueeze(0))[-1]-p1.closed_form[k][-1])/p1.closed_form[k][-1]*100).detach().cpu().numpy()[0]))"
      ],
      "metadata": {
        "id": "U6N7JQ1N6SvY",
        "outputId": "a6c4834f-420f-4e0e-c3de-4b051eb5ac77",
        "colab": {
          "base_uri": "https://localhost:8080/"
        }
      },
      "execution_count": null,
      "outputs": [
        {
          "output_type": "stream",
          "name": "stdout",
          "text": [
            "The percentage of relative error is 46.72637074054113%.\n"
          ]
        }
      ]
    },
    {
      "cell_type": "code",
      "source": [],
      "metadata": {
        "id": "tWVCisQwGr9C"
      },
      "execution_count": null,
      "outputs": []
    }
  ],
  "metadata": {
    "accelerator": "GPU",
    "colab": {
      "gpuType": "V100",
      "machine_shape": "hm",
      "provenance": [],
      "toc_visible": true,
      "include_colab_link": true
    },
    "kernelspec": {
      "display_name": "Python 3",
      "name": "python3"
    },
    "language_info": {
      "codemirror_mode": {
        "name": "ipython",
        "version": 3
      },
      "file_extension": ".py",
      "mimetype": "text/x-python",
      "name": "python",
      "nbconvert_exporter": "python",
      "pygments_lexer": "ipython3",
      "version": "3.8.8"
    }
  },
  "nbformat": 4,
  "nbformat_minor": 0
}