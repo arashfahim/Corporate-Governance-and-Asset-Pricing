{
 "cells": [
  {
   "cell_type": "markdown",
   "id": "charitable-cartridge",
   "metadata": {},
   "source": [
    "# generate sample paths of refelected process"
   ]
  },
  {
   "cell_type": "code",
   "execution_count": 19,
   "id": "innovative-seven",
   "metadata": {},
   "outputs": [],
   "source": [
    "import numpy as np\n",
    "import math as mt\n",
    "from datetime import datetime "
   ]
  },
  {
   "cell_type": "markdown",
   "id": "ahead-sociology",
   "metadata": {},
   "source": [
    "### Parameters and inputs"
   ]
  },
  {
   "cell_type": "code",
   "execution_count": 50,
   "id": "gross-wheel",
   "metadata": {},
   "outputs": [],
   "source": [
    "x_p = 1\n",
    "dx = 0.1\n",
    "dt=dx*dx\n",
    "num_samples = 1000000\n",
    "max_length = 50\n",
    "num_paths = 10000\n",
    "lmb = 0.5\n",
    "gamma = 2\n",
    "sigma = 1"
   ]
  },
  {
   "cell_type": "code",
   "execution_count": 51,
   "id": "provincial-penny",
   "metadata": {},
   "outputs": [
    {
     "name": "stdout",
     "output_type": "stream",
     "text": [
      "0:00:00.000124\n"
     ]
    }
   ],
   "source": [
    "begin = datetime.now()\n",
    "if 'Dlt_B' not in globals():\n",
    "    Dlt_B = np.random.normal(0, dx, size=(num_samples))\n",
    "    init = np.random.uniform(0,x_p,num_paths)\n",
    "print(datetime.now() - begin)"
   ]
  },
  {
   "cell_type": "markdown",
   "id": "under-assets",
   "metadata": {},
   "source": [
    "### Initialization"
   ]
  },
  {
   "cell_type": "code",
   "execution_count": 52,
   "id": "spread-customs",
   "metadata": {},
   "outputs": [],
   "source": [
    "paths=[]\n",
    "rubish_pths = 0"
   ]
  },
  {
   "cell_type": "markdown",
   "id": "clinical-trader",
   "metadata": {},
   "source": [
    "### Sample path generation"
   ]
  },
  {
   "cell_type": "code",
   "execution_count": 53,
   "id": "labeled-howard",
   "metadata": {},
   "outputs": [],
   "source": [
    "for j in range(0,num_paths):\n",
    "    path_ = init[j]\n",
    "    path_ref = [path_]\n",
    "    max_path = path_\n",
    "    i = 0\n",
    "    while ((i<max_length) & (path_ref[-1]>0)):\n",
    "        path_ = (1 + gamma*dt)*path_ + sigma*Dlt_B[i]\n",
    "        max_path = np.maximum(max_path, path_)\n",
    "        reflection = np.maximum(max_path - x_p, 0)\n",
    "        tmp = path_ - (1/lmb)*reflection\n",
    "        path_ref.append(tmp)\n",
    "        i = i + 1\n",
    "        if ((i == max_length) & (path_ref[-1] > 0)):\n",
    "            rubish_pths = rubish_pths + 1\n",
    "    if (path_ref[-1] < 0):\n",
    "        path_ref[-1] = 0\n",
    "        paths.append(path_ref)"
   ]
  },
  {
   "cell_type": "code",
   "execution_count": 54,
   "id": "economic-fusion",
   "metadata": {},
   "outputs": [
    {
     "name": "stdout",
     "output_type": "stream",
     "text": [
      "100000 0\n"
     ]
    }
   ],
   "source": [
    "print(len(paths), rubish_pths)"
   ]
  },
  {
   "cell_type": "code",
   "execution_count": 55,
   "id": "confirmed-stage",
   "metadata": {},
   "outputs": [
    {
     "data": {
      "text/plain": [
       "100000"
      ]
     },
     "execution_count": 55,
     "metadata": {},
     "output_type": "execute_result"
    }
   ],
   "source": [
    "x_ = np.array([p[0] for p in paths])\n",
    "y_ = np.array([dt*(len(p)-1) for p in paths])\n",
    "x_ind = x_.argsort()\n",
    "x = x_[x_ind[::-1]].reshape(-1,1)\n",
    "y = y_[x_ind[::-1]]\n",
    "len(x)"
   ]
  },
  {
   "cell_type": "code",
   "execution_count": 56,
   "id": "closed-fitting",
   "metadata": {},
   "outputs": [],
   "source": [
    "from sklearn.linear_model import LinearRegression\n",
    "model = LinearRegression().fit(x,y)"
   ]
  },
  {
   "cell_type": "code",
   "execution_count": 57,
   "id": "broadband-burlington",
   "metadata": {
    "scrolled": true
   },
   "outputs": [],
   "source": [
    "y_lin = model.predict(np.linspace(0,1,30).reshape(-1, 1))"
   ]
  },
  {
   "cell_type": "code",
   "execution_count": 58,
   "id": "sealed-printer",
   "metadata": {},
   "outputs": [],
   "source": [
    "def base (x,y,x_input,K):\n",
    "    q = np.zeros(K+1)\n",
    "    for k in range(1,K+1):\n",
    "        q[k] = np.quantile(x, k/K)\n",
    "    q[-1] = 1\n",
    "    I = []\n",
    "    y_output = []\n",
    "    a = np.empty(K)\n",
    "    b = np.empty(K)\n",
    "    X_ind = np.empty(K)\n",
    "    X = np.empty(K)\n",
    "    X_sq = np.empty(K)\n",
    "    Y = np.empty(K)\n",
    "    YX = np.empty(K)\n",
    "    x_y = np.stack((x,y.reshape(-1,1)),axis=1)\n",
    "    s = 0\n",
    "    for x0 in np.linspace(0,x_p,3000):\n",
    "        if x0 == 0:\n",
    "            I = 1\n",
    "        else:\n",
    "            for i in range(1,K+1):\n",
    "                if ((x0 > q[i-1]) & (x0 <= q[i])):\n",
    "                    I = i\n",
    "        X_ind = np.sum([1 if ((z[0] > q[I-1]) & (z[0] <= q[I])) else 0 for z in x_y])\n",
    "        s = s + X_ind\n",
    "        X = np.sum([z[0] if ((z[0] > q[I-1]) & (z[0] <= q[I])) else 0 for z in x_y])\n",
    "        X_sq = np.sum([z[0]*z[0] if ((z[0] > q[I-1]) & (z[0] <= q[I])) else 0 for z in x_y])\n",
    "        Y = np.sum([z[1] if ((z[0] > q[I-1]) & (z[0] <= q[I])) else 0 for z in x_y])\n",
    "        YX = np.sum([z[1]*z[0] if ((z[0] > q[I-1]) & (z[0] <= q[I])) else 0 for z in x_y])\n",
    "        det = X_sq*X_ind-X*X\n",
    "        a = (X_ind*YX-X*Y)/det\n",
    "        b = (-X*YX+X_sq*Y)/det\n",
    "        y_output = np.append(y_output,np.multiply(a,x0) + b)\n",
    "#     I = []\n",
    "#     s=0\n",
    "#     y_output = []\n",
    "#     a = np.empty(K)\n",
    "#     b = np.empty(K)\n",
    "#     X_ind = np.empty(K)\n",
    "#     X = np.empty(K)\n",
    "#     X_sq = np.empty(K)\n",
    "#     Y = np.empty(K)\n",
    "#     YX = np.empty(K)\n",
    "#     x_y = np.stack((x,y.reshape(-1,1)),axis=1)\n",
    "#     for x0 in x_input:\n",
    "#         if x0 == 0:\n",
    "#             I = 1\n",
    "#         else:\n",
    "#             for i in range(1,K+1):\n",
    "#                 if ((x0 > q[i-1]) & (x0 <= q[i])):\n",
    "#                     I = i\n",
    "#         X_ind = np.sum([1 if ((z[0] > q[I-1]) & (z[0] <= q[I])) else 0 for z in x_y])\n",
    "#         s = s + X_ind\n",
    "#         X = np.sum([z[0] if ((z[0] > q[I-1]) & (z[0] <= q[I])) else 0 for z in x_y])\n",
    "#         X_sq = np.sum([z[0]*z[0] if ((z[0] > q[I-1]) & (z[0] <= q[I])) else 0 for z in x_y])\n",
    "#         Y = np.sum([z[1] if ((z[0] > q[I-1]) & (z[0] <= q[I])) else 0 for z in x_y])\n",
    "#         YX = np.sum([z[1]*z[0] if ((z[0] > q[I-1]) & (z[0] <= q[I])) else 0 for z in x_y])\n",
    "#         det = X_sq*X_ind-X*X\n",
    "#         a = (X_ind*YX-X*Y)/det\n",
    "#         b = (-X*YX+X_sq*Y)/det\n",
    "#         y_output = np.append(y_output,np.multiply(a,x0) + b)\n",
    "    print(s)\n",
    "    return y_output"
   ]
  },
  {
   "cell_type": "code",
   "execution_count": null,
   "id": "removable-marina",
   "metadata": {
    "scrolled": false
   },
   "outputs": [
    {
     "name": "stderr",
     "output_type": "stream",
     "text": [
      "/Library/Frameworks/Python.framework/Versions/3.9/lib/python3.9/site-packages/numpy/core/fromnumeric.py:87: VisibleDeprecationWarning: Creating an ndarray from ragged nested sequences (which is a list-or-tuple of lists-or-tuples-or ndarrays with different lengths or shapes) is deprecated. If you meant to do this, you must specify 'dtype=object' when creating the ndarray\n",
      "  return ufunc.reduce(obj, axis, dtype, out, **passkwargs)\n"
     ]
    }
   ],
   "source": [
    "K = 10\n",
    "y_pred = base(x,y,np.linspace(0,1,30),K)"
   ]
  },
  {
   "cell_type": "code",
   "execution_count": null,
   "id": "pediatric-suspension",
   "metadata": {},
   "outputs": [],
   "source": [
    "from matplotlib import pyplot as plt\n",
    "plt.plot(x,y, 'k,')\n",
    "plt.plot(np.linspace(0,1,30),y_pred, 'b,')\n",
    "plt.plot(np.linspace(0,1,30),y_lin, 'r')"
   ]
  },
  {
   "cell_type": "code",
   "execution_count": null,
   "id": "fewer-begin",
   "metadata": {},
   "outputs": [],
   "source": [
    "q = np.zeros(K+1)\n",
    "for k in range(1,K+1):\n",
    "    q[k] = np.quantile(x, k/K)\n",
    "q[-1]=x_p"
   ]
  },
  {
   "cell_type": "code",
   "execution_count": null,
   "id": "correct-grave",
   "metadata": {},
   "outputs": [],
   "source": [
    "q"
   ]
  },
  {
   "cell_type": "code",
   "execution_count": null,
   "id": "strong-north",
   "metadata": {},
   "outputs": [],
   "source": [
    "I = []\n",
    "y_output = []\n",
    "a = np.empty(K)\n",
    "b = np.empty(K)\n",
    "X_ind = np.empty(K)\n",
    "X = np.empty(K)\n",
    "X_sq = np.empty(K)\n",
    "Y = np.empty(K)\n",
    "YX = np.empty(K)\n",
    "for x0 in np.linspace(0,x_p,3000):\n",
    "    if x0 == 0:\n",
    "        I = 1\n",
    "    else:\n",
    "        for i in range(1,K+1):\n",
    "            if ((x0 > q[i-1]) & (x0 <= q[i])):\n",
    "                I = i\n",
    "    X_ind = np.sum([1 if ((z[0] > q[I-1]) & (z[0] <= q[I])) else 0 for z in x_y])\n",
    "    X = np.sum([z[0] if ((z[0] > q[I-1]) & (z[0] <= q[I])) else 0 for z in x_y])\n",
    "    X_sq = np.sum([z[0]*z[0] if ((z[0] > q[I-1]) & (z[0] <= q[I])) else 0 for z in x_y])\n",
    "    Y = np.sum([z[1] if ((z[0] > q[I-1]) & (z[0] <= q[I])) else 0 for z in x_y])\n",
    "    YX = np.sum([z[1]*z[0] if ((z[0] > q[I-1]) & (z[0] <= q[I])) else 0 for z in x_y])\n",
    "    det = X_sq*X_ind-X*X\n",
    "    a = (X_ind*YX-X*Y)/det\n",
    "    b = (-X*YX+X_sq*Y)/det\n",
    "    y_output = np.append(y_output,np.multiply(a,x0) + b)\n",
    "y_output"
   ]
  },
  {
   "cell_type": "code",
   "execution_count": null,
   "id": "sized-victor",
   "metadata": {},
   "outputs": [],
   "source": [
    "plt.plot(x,y, 'k,')\n",
    "plt.plot(np.linspace(0,1,3000),y_output, 'b,')"
   ]
  },
  {
   "cell_type": "code",
   "execution_count": null,
   "id": "optional-champagne",
   "metadata": {},
   "outputs": [],
   "source": [
    "np.power(0.1,0.5)"
   ]
  },
  {
   "cell_type": "code",
   "execution_count": null,
   "id": "acquired-alcohol",
   "metadata": {},
   "outputs": [],
   "source": []
  }
 ],
 "metadata": {
  "kernelspec": {
   "display_name": "Python 3",
   "language": "python",
   "name": "python3"
  },
  "language_info": {
   "codemirror_mode": {
    "name": "ipython",
    "version": 3
   },
   "file_extension": ".py",
   "mimetype": "text/x-python",
   "name": "python",
   "nbconvert_exporter": "python",
   "pygments_lexer": "ipython3",
   "version": "3.9.1"
  }
 },
 "nbformat": 4,
 "nbformat_minor": 5
}
